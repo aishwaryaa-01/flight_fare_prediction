{
 "cells": [
  {
   "cell_type": "code",
   "execution_count": 1,
   "id": "61078d55",
   "metadata": {},
   "outputs": [],
   "source": [
    "import pandas as pd"
   ]
  },
  {
   "cell_type": "code",
   "execution_count": 2,
   "id": "35174ffc",
   "metadata": {},
   "outputs": [],
   "source": [
    "url = \"flight_data.csv\""
   ]
  },
  {
   "cell_type": "code",
   "execution_count": 3,
   "id": "a3e6f7e8",
   "metadata": {},
   "outputs": [],
   "source": [
    "df = pd.read_csv(url)"
   ]
  },
  {
   "cell_type": "code",
   "execution_count": 4,
   "id": "a895008e",
   "metadata": {},
   "outputs": [
    {
     "data": {
      "text/html": [
       "<div>\n",
       "<style scoped>\n",
       "    .dataframe tbody tr th:only-of-type {\n",
       "        vertical-align: middle;\n",
       "    }\n",
       "\n",
       "    .dataframe tbody tr th {\n",
       "        vertical-align: top;\n",
       "    }\n",
       "\n",
       "    .dataframe thead th {\n",
       "        text-align: right;\n",
       "    }\n",
       "</style>\n",
       "<table border=\"1\" class=\"dataframe\">\n",
       "  <thead>\n",
       "    <tr style=\"text-align: right;\">\n",
       "      <th></th>\n",
       "      <th>Airline</th>\n",
       "      <th>Date_of_Journey</th>\n",
       "      <th>Source</th>\n",
       "      <th>Destination</th>\n",
       "      <th>Route</th>\n",
       "      <th>Dep_Time</th>\n",
       "      <th>Arrival_Time</th>\n",
       "      <th>Duration</th>\n",
       "      <th>Total_Stops</th>\n",
       "      <th>Additional_Info</th>\n",
       "      <th>Price</th>\n",
       "    </tr>\n",
       "  </thead>\n",
       "  <tbody>\n",
       "    <tr>\n",
       "      <th>0</th>\n",
       "      <td>IndiGo</td>\n",
       "      <td>24/03/2019</td>\n",
       "      <td>Banglore</td>\n",
       "      <td>New Delhi</td>\n",
       "      <td>BLR ? DEL</td>\n",
       "      <td>22:20</td>\n",
       "      <td>01:10 22 Mar</td>\n",
       "      <td>2h 50m</td>\n",
       "      <td>non-stop</td>\n",
       "      <td>No info</td>\n",
       "      <td>3897</td>\n",
       "    </tr>\n",
       "    <tr>\n",
       "      <th>1</th>\n",
       "      <td>Air India</td>\n",
       "      <td>1/05/2019</td>\n",
       "      <td>Kolkata</td>\n",
       "      <td>Banglore</td>\n",
       "      <td>CCU ? IXR ? BBI ? BLR</td>\n",
       "      <td>05:50</td>\n",
       "      <td>13:15</td>\n",
       "      <td>7h 25m</td>\n",
       "      <td>2 stops</td>\n",
       "      <td>No info</td>\n",
       "      <td>7662</td>\n",
       "    </tr>\n",
       "    <tr>\n",
       "      <th>2</th>\n",
       "      <td>Jet Airways</td>\n",
       "      <td>9/06/2019</td>\n",
       "      <td>Delhi</td>\n",
       "      <td>Cochin</td>\n",
       "      <td>DEL ? LKO ? BOM ? COK</td>\n",
       "      <td>09:25</td>\n",
       "      <td>04:25 10 Jun</td>\n",
       "      <td>19h</td>\n",
       "      <td>2 stops</td>\n",
       "      <td>No info</td>\n",
       "      <td>13882</td>\n",
       "    </tr>\n",
       "    <tr>\n",
       "      <th>3</th>\n",
       "      <td>IndiGo</td>\n",
       "      <td>12/05/2019</td>\n",
       "      <td>Kolkata</td>\n",
       "      <td>Banglore</td>\n",
       "      <td>CCU ? NAG ? BLR</td>\n",
       "      <td>18:05</td>\n",
       "      <td>23:30</td>\n",
       "      <td>5h 25m</td>\n",
       "      <td>1 stop</td>\n",
       "      <td>No info</td>\n",
       "      <td>6218</td>\n",
       "    </tr>\n",
       "    <tr>\n",
       "      <th>4</th>\n",
       "      <td>IndiGo</td>\n",
       "      <td>01/03/2019</td>\n",
       "      <td>Banglore</td>\n",
       "      <td>New Delhi</td>\n",
       "      <td>BLR ? NAG ? DEL</td>\n",
       "      <td>16:50</td>\n",
       "      <td>21:35</td>\n",
       "      <td>4h 45m</td>\n",
       "      <td>1 stop</td>\n",
       "      <td>No info</td>\n",
       "      <td>13302</td>\n",
       "    </tr>\n",
       "  </tbody>\n",
       "</table>\n",
       "</div>"
      ],
      "text/plain": [
       "       Airline Date_of_Journey    Source Destination                  Route  \\\n",
       "0       IndiGo      24/03/2019  Banglore   New Delhi              BLR ? DEL   \n",
       "1    Air India       1/05/2019   Kolkata    Banglore  CCU ? IXR ? BBI ? BLR   \n",
       "2  Jet Airways       9/06/2019     Delhi      Cochin  DEL ? LKO ? BOM ? COK   \n",
       "3       IndiGo      12/05/2019   Kolkata    Banglore        CCU ? NAG ? BLR   \n",
       "4       IndiGo      01/03/2019  Banglore   New Delhi        BLR ? NAG ? DEL   \n",
       "\n",
       "  Dep_Time  Arrival_Time Duration Total_Stops Additional_Info  Price  \n",
       "0    22:20  01:10 22 Mar   2h 50m    non-stop         No info   3897  \n",
       "1    05:50         13:15   7h 25m     2 stops         No info   7662  \n",
       "2    09:25  04:25 10 Jun      19h     2 stops         No info  13882  \n",
       "3    18:05         23:30   5h 25m      1 stop         No info   6218  \n",
       "4    16:50         21:35   4h 45m      1 stop         No info  13302  "
      ]
     },
     "execution_count": 4,
     "metadata": {},
     "output_type": "execute_result"
    }
   ],
   "source": [
    "df.head()"
   ]
  },
  {
   "cell_type": "code",
   "execution_count": 5,
   "id": "10617221",
   "metadata": {},
   "outputs": [
    {
     "name": "stdout",
     "output_type": "stream",
     "text": [
      "<class 'pandas.core.frame.DataFrame'>\n",
      "RangeIndex: 10683 entries, 0 to 10682\n",
      "Data columns (total 11 columns):\n",
      " #   Column           Non-Null Count  Dtype \n",
      "---  ------           --------------  ----- \n",
      " 0   Airline          10683 non-null  object\n",
      " 1   Date_of_Journey  10683 non-null  object\n",
      " 2   Source           10683 non-null  object\n",
      " 3   Destination      10683 non-null  object\n",
      " 4   Route            10682 non-null  object\n",
      " 5   Dep_Time         10683 non-null  object\n",
      " 6   Arrival_Time     10683 non-null  object\n",
      " 7   Duration         10683 non-null  object\n",
      " 8   Total_Stops      10682 non-null  object\n",
      " 9   Additional_Info  10683 non-null  object\n",
      " 10  Price            10683 non-null  int64 \n",
      "dtypes: int64(1), object(10)\n",
      "memory usage: 918.2+ KB\n"
     ]
    }
   ],
   "source": [
    "df.info()"
   ]
  },
  {
   "cell_type": "code",
   "execution_count": 6,
   "id": "74b01d73",
   "metadata": {},
   "outputs": [],
   "source": [
    "import numpy as np"
   ]
  },
  {
   "cell_type": "markdown",
   "id": "88ff5157",
   "metadata": {},
   "source": [
    "## Drop Nan Values"
   ]
  },
  {
   "cell_type": "code",
   "execution_count": 7,
   "id": "94bca675",
   "metadata": {},
   "outputs": [
    {
     "data": {
      "text/plain": [
       "Airline            0\n",
       "Date_of_Journey    0\n",
       "Source             0\n",
       "Destination        0\n",
       "Route              1\n",
       "Dep_Time           0\n",
       "Arrival_Time       0\n",
       "Duration           0\n",
       "Total_Stops        1\n",
       "Additional_Info    0\n",
       "Price              0\n",
       "dtype: int64"
      ]
     },
     "execution_count": 7,
     "metadata": {},
     "output_type": "execute_result"
    }
   ],
   "source": [
    "df.isnull().sum()"
   ]
  },
  {
   "cell_type": "code",
   "execution_count": 8,
   "id": "3319728c",
   "metadata": {},
   "outputs": [],
   "source": [
    "#you cannot replace nan with mean values as \"symboling\" contains'+' and '-',so covert nan to 0."
   ]
  },
  {
   "cell_type": "code",
   "execution_count": 9,
   "id": "989a923c",
   "metadata": {},
   "outputs": [],
   "source": [
    "df= df.replace(np.nan,0)"
   ]
  },
  {
   "cell_type": "code",
   "execution_count": 10,
   "id": "91f413ac",
   "metadata": {},
   "outputs": [
    {
     "data": {
      "text/plain": [
       "Airline            0\n",
       "Date_of_Journey    0\n",
       "Source             0\n",
       "Destination        0\n",
       "Route              0\n",
       "Dep_Time           0\n",
       "Arrival_Time       0\n",
       "Duration           0\n",
       "Total_Stops        0\n",
       "Additional_Info    0\n",
       "Price              0\n",
       "dtype: int64"
      ]
     },
     "execution_count": 10,
     "metadata": {},
     "output_type": "execute_result"
    }
   ],
   "source": [
    "df.isnull().sum()"
   ]
  },
  {
   "cell_type": "code",
   "execution_count": 11,
   "id": "6eaea2d0",
   "metadata": {},
   "outputs": [],
   "source": [
    "#df['stroke']= df['stroke'].astype('float64')"
   ]
  },
  {
   "cell_type": "code",
   "execution_count": 12,
   "id": "be582269",
   "metadata": {},
   "outputs": [],
   "source": [
    "#df['stroke'].dtypes"
   ]
  },
  {
   "cell_type": "code",
   "execution_count": 13,
   "id": "5c763cc8",
   "metadata": {},
   "outputs": [
    {
     "data": {
      "text/plain": [
       "Jet Airways                          3849\n",
       "IndiGo                               2053\n",
       "Air India                            1752\n",
       "Multiple carriers                    1196\n",
       "SpiceJet                              818\n",
       "Vistara                               479\n",
       "Air Asia                              319\n",
       "GoAir                                 194\n",
       "Multiple carriers Premium economy      13\n",
       "Jet Airways Business                    6\n",
       "Vistara Premium economy                 3\n",
       "Trujet                                  1\n",
       "Name: Airline, dtype: int64"
      ]
     },
     "execution_count": 13,
     "metadata": {},
     "output_type": "execute_result"
    }
   ],
   "source": [
    "df['Airline'].value_counts()"
   ]
  },
  {
   "cell_type": "code",
   "execution_count": 14,
   "id": "d063df0b",
   "metadata": {},
   "outputs": [
    {
     "data": {
      "text/plain": [
       "18/05/2019    504\n",
       "6/06/2019     503\n",
       "21/05/2019    497\n",
       "9/06/2019     495\n",
       "12/06/2019    493\n",
       "9/05/2019     484\n",
       "21/03/2019    423\n",
       "15/05/2019    405\n",
       "27/05/2019    382\n",
       "27/06/2019    355\n",
       "24/06/2019    351\n",
       "1/06/2019     342\n",
       "3/06/2019     333\n",
       "15/06/2019    328\n",
       "24/03/2019    323\n",
       "6/03/2019     308\n",
       "27/03/2019    299\n",
       "24/05/2019    286\n",
       "6/05/2019     282\n",
       "1/05/2019     277\n",
       "12/05/2019    259\n",
       "1/04/2019     257\n",
       "3/03/2019     218\n",
       "9/03/2019     200\n",
       "15/03/2019    162\n",
       "18/03/2019    156\n",
       "01/03/2019    152\n",
       "12/03/2019    142\n",
       "9/04/2019     125\n",
       "3/04/2019     110\n",
       "21/06/2019    109\n",
       "18/06/2019    105\n",
       "09/03/2019    102\n",
       "6/04/2019     100\n",
       "03/03/2019     97\n",
       "06/03/2019     95\n",
       "27/04/2019     94\n",
       "24/04/2019     92\n",
       "3/05/2019      90\n",
       "15/04/2019     89\n",
       "21/04/2019     82\n",
       "18/04/2019     67\n",
       "12/04/2019     63\n",
       "1/03/2019      47\n",
       "Name: Date_of_Journey, dtype: int64"
      ]
     },
     "execution_count": 14,
     "metadata": {},
     "output_type": "execute_result"
    }
   ],
   "source": [
    "df['Date_of_Journey'].value_counts()"
   ]
  },
  {
   "cell_type": "markdown",
   "id": "1d8541e4",
   "metadata": {},
   "source": [
    "#### date_of_journey is in object type, so w need to conert it into timestamp "
   ]
  },
  {
   "cell_type": "code",
   "execution_count": 15,
   "id": "d8402512",
   "metadata": {},
   "outputs": [],
   "source": [
    "#we require pandas \"to_datetime\" to convert obj datatype to datetime dtype"
   ]
  },
  {
   "cell_type": "code",
   "execution_count": 16,
   "id": "8575fe03",
   "metadata": {},
   "outputs": [],
   "source": [
    "# .dt.day method will extract only day of that date\n",
    "# .dt.month  method will extract only month of that date"
   ]
  },
  {
   "cell_type": "code",
   "execution_count": 17,
   "id": "7ac1de16",
   "metadata": {},
   "outputs": [],
   "source": [
    "df[\"journey_day\"] = pd.to_datetime(df.Date_of_Journey, format = \"%d/%m/%Y\").dt.day"
   ]
  },
  {
   "cell_type": "code",
   "execution_count": 18,
   "id": "0c9f83e7",
   "metadata": {},
   "outputs": [],
   "source": [
    "df[\"journey_month\"] = pd.to_datetime(df[\"Date_of_Journey\"], format = \"%d/%m/%Y\").dt.month"
   ]
  },
  {
   "cell_type": "code",
   "execution_count": 19,
   "id": "e5d70c9d",
   "metadata": {},
   "outputs": [],
   "source": [
    "df.drop([\"Date_of_Journey\"],axis = 1,inplace = True)"
   ]
  },
  {
   "cell_type": "code",
   "execution_count": 20,
   "id": "d428704d",
   "metadata": {},
   "outputs": [
    {
     "data": {
      "text/html": [
       "<div>\n",
       "<style scoped>\n",
       "    .dataframe tbody tr th:only-of-type {\n",
       "        vertical-align: middle;\n",
       "    }\n",
       "\n",
       "    .dataframe tbody tr th {\n",
       "        vertical-align: top;\n",
       "    }\n",
       "\n",
       "    .dataframe thead th {\n",
       "        text-align: right;\n",
       "    }\n",
       "</style>\n",
       "<table border=\"1\" class=\"dataframe\">\n",
       "  <thead>\n",
       "    <tr style=\"text-align: right;\">\n",
       "      <th></th>\n",
       "      <th>Airline</th>\n",
       "      <th>Source</th>\n",
       "      <th>Destination</th>\n",
       "      <th>Route</th>\n",
       "      <th>Dep_Time</th>\n",
       "      <th>Arrival_Time</th>\n",
       "      <th>Duration</th>\n",
       "      <th>Total_Stops</th>\n",
       "      <th>Additional_Info</th>\n",
       "      <th>Price</th>\n",
       "      <th>journey_day</th>\n",
       "      <th>journey_month</th>\n",
       "    </tr>\n",
       "  </thead>\n",
       "  <tbody>\n",
       "    <tr>\n",
       "      <th>0</th>\n",
       "      <td>IndiGo</td>\n",
       "      <td>Banglore</td>\n",
       "      <td>New Delhi</td>\n",
       "      <td>BLR ? DEL</td>\n",
       "      <td>22:20</td>\n",
       "      <td>01:10 22 Mar</td>\n",
       "      <td>2h 50m</td>\n",
       "      <td>non-stop</td>\n",
       "      <td>No info</td>\n",
       "      <td>3897</td>\n",
       "      <td>24</td>\n",
       "      <td>3</td>\n",
       "    </tr>\n",
       "    <tr>\n",
       "      <th>1</th>\n",
       "      <td>Air India</td>\n",
       "      <td>Kolkata</td>\n",
       "      <td>Banglore</td>\n",
       "      <td>CCU ? IXR ? BBI ? BLR</td>\n",
       "      <td>05:50</td>\n",
       "      <td>13:15</td>\n",
       "      <td>7h 25m</td>\n",
       "      <td>2 stops</td>\n",
       "      <td>No info</td>\n",
       "      <td>7662</td>\n",
       "      <td>1</td>\n",
       "      <td>5</td>\n",
       "    </tr>\n",
       "    <tr>\n",
       "      <th>2</th>\n",
       "      <td>Jet Airways</td>\n",
       "      <td>Delhi</td>\n",
       "      <td>Cochin</td>\n",
       "      <td>DEL ? LKO ? BOM ? COK</td>\n",
       "      <td>09:25</td>\n",
       "      <td>04:25 10 Jun</td>\n",
       "      <td>19h</td>\n",
       "      <td>2 stops</td>\n",
       "      <td>No info</td>\n",
       "      <td>13882</td>\n",
       "      <td>9</td>\n",
       "      <td>6</td>\n",
       "    </tr>\n",
       "    <tr>\n",
       "      <th>3</th>\n",
       "      <td>IndiGo</td>\n",
       "      <td>Kolkata</td>\n",
       "      <td>Banglore</td>\n",
       "      <td>CCU ? NAG ? BLR</td>\n",
       "      <td>18:05</td>\n",
       "      <td>23:30</td>\n",
       "      <td>5h 25m</td>\n",
       "      <td>1 stop</td>\n",
       "      <td>No info</td>\n",
       "      <td>6218</td>\n",
       "      <td>12</td>\n",
       "      <td>5</td>\n",
       "    </tr>\n",
       "    <tr>\n",
       "      <th>4</th>\n",
       "      <td>IndiGo</td>\n",
       "      <td>Banglore</td>\n",
       "      <td>New Delhi</td>\n",
       "      <td>BLR ? NAG ? DEL</td>\n",
       "      <td>16:50</td>\n",
       "      <td>21:35</td>\n",
       "      <td>4h 45m</td>\n",
       "      <td>1 stop</td>\n",
       "      <td>No info</td>\n",
       "      <td>13302</td>\n",
       "      <td>1</td>\n",
       "      <td>3</td>\n",
       "    </tr>\n",
       "  </tbody>\n",
       "</table>\n",
       "</div>"
      ],
      "text/plain": [
       "       Airline    Source Destination                  Route Dep_Time  \\\n",
       "0       IndiGo  Banglore   New Delhi              BLR ? DEL    22:20   \n",
       "1    Air India   Kolkata    Banglore  CCU ? IXR ? BBI ? BLR    05:50   \n",
       "2  Jet Airways     Delhi      Cochin  DEL ? LKO ? BOM ? COK    09:25   \n",
       "3       IndiGo   Kolkata    Banglore        CCU ? NAG ? BLR    18:05   \n",
       "4       IndiGo  Banglore   New Delhi        BLR ? NAG ? DEL    16:50   \n",
       "\n",
       "   Arrival_Time Duration Total_Stops Additional_Info  Price  journey_day  \\\n",
       "0  01:10 22 Mar   2h 50m    non-stop         No info   3897           24   \n",
       "1         13:15   7h 25m     2 stops         No info   7662            1   \n",
       "2  04:25 10 Jun      19h     2 stops         No info  13882            9   \n",
       "3         23:30   5h 25m      1 stop         No info   6218           12   \n",
       "4         21:35   4h 45m      1 stop         No info  13302            1   \n",
       "\n",
       "   journey_month  \n",
       "0              3  \n",
       "1              5  \n",
       "2              6  \n",
       "3              5  \n",
       "4              3  "
      ]
     },
     "execution_count": 20,
     "metadata": {},
     "output_type": "execute_result"
    }
   ],
   "source": [
    "df.head()"
   ]
  },
  {
   "cell_type": "code",
   "execution_count": 21,
   "id": "567aa8e4",
   "metadata": {},
   "outputs": [
    {
     "data": {
      "text/plain": [
       "Delhi       4537\n",
       "Kolkata     2871\n",
       "Banglore    2197\n",
       "Mumbai       697\n",
       "Chennai      381\n",
       "Name: Source, dtype: int64"
      ]
     },
     "execution_count": 21,
     "metadata": {},
     "output_type": "execute_result"
    }
   ],
   "source": [
    "df['Source'].value_counts()"
   ]
  },
  {
   "cell_type": "code",
   "execution_count": 22,
   "id": "7b62c865",
   "metadata": {},
   "outputs": [
    {
     "data": {
      "text/plain": [
       "Cochin       4537\n",
       "Banglore     2871\n",
       "Delhi        1265\n",
       "New Delhi     932\n",
       "Hyderabad     697\n",
       "Kolkata       381\n",
       "Name: Destination, dtype: int64"
      ]
     },
     "execution_count": 22,
     "metadata": {},
     "output_type": "execute_result"
    }
   ],
   "source": [
    "df['Destination'].value_counts()"
   ]
  },
  {
   "cell_type": "code",
   "execution_count": 23,
   "id": "ead44359",
   "metadata": {},
   "outputs": [
    {
     "data": {
      "text/plain": [
       "DEL ? BOM ? COK          2376\n",
       "BLR ? DEL                1552\n",
       "CCU ? BOM ? BLR           979\n",
       "CCU ? BLR                 724\n",
       "BOM ? HYD                 621\n",
       "                         ... \n",
       "CCU ? IXB ? DEL ? BLR       1\n",
       "BLR ? BOM ? IXC ? DEL       1\n",
       "CCU ? IXA ? BLR             1\n",
       "BOM ? GOI ? HYD             1\n",
       "0                           1\n",
       "Name: Route, Length: 129, dtype: int64"
      ]
     },
     "execution_count": 23,
     "metadata": {},
     "output_type": "execute_result"
    }
   ],
   "source": [
    "df['Route'].value_counts()"
   ]
  },
  {
   "cell_type": "code",
   "execution_count": 24,
   "id": "80d15069",
   "metadata": {},
   "outputs": [
    {
     "data": {
      "text/plain": [
       "18:55    233\n",
       "17:00    227\n",
       "07:05    205\n",
       "10:00    203\n",
       "07:10    202\n",
       "        ... \n",
       "12:45      1\n",
       "21:35      1\n",
       "04:15      1\n",
       "03:00      1\n",
       "01:35      1\n",
       "Name: Dep_Time, Length: 222, dtype: int64"
      ]
     },
     "execution_count": 24,
     "metadata": {},
     "output_type": "execute_result"
    }
   ],
   "source": [
    "df['Dep_Time'].value_counts()"
   ]
  },
  {
   "cell_type": "markdown",
   "id": "9456e154",
   "metadata": {},
   "source": [
    "#### we'll use here (.dt.hour) and (.dt.minute)"
   ]
  },
  {
   "cell_type": "code",
   "execution_count": 25,
   "id": "6e4f82dd",
   "metadata": {},
   "outputs": [],
   "source": [
    "df[\"dep_hour\"] = pd.to_datetime(df[\"Dep_Time\"]).dt.hour"
   ]
  },
  {
   "cell_type": "code",
   "execution_count": 26,
   "id": "30754394",
   "metadata": {},
   "outputs": [],
   "source": [
    "df[\"dep_min\"] = pd.to_datetime(df[\"Dep_Time\"]).dt.minute"
   ]
  },
  {
   "cell_type": "code",
   "execution_count": 27,
   "id": "42a6ff27",
   "metadata": {},
   "outputs": [],
   "source": [
    "df.drop([\"Dep_Time\"],axis=1, inplace = True)"
   ]
  },
  {
   "cell_type": "code",
   "execution_count": 28,
   "id": "44c297af",
   "metadata": {},
   "outputs": [
    {
     "data": {
      "text/html": [
       "<div>\n",
       "<style scoped>\n",
       "    .dataframe tbody tr th:only-of-type {\n",
       "        vertical-align: middle;\n",
       "    }\n",
       "\n",
       "    .dataframe tbody tr th {\n",
       "        vertical-align: top;\n",
       "    }\n",
       "\n",
       "    .dataframe thead th {\n",
       "        text-align: right;\n",
       "    }\n",
       "</style>\n",
       "<table border=\"1\" class=\"dataframe\">\n",
       "  <thead>\n",
       "    <tr style=\"text-align: right;\">\n",
       "      <th></th>\n",
       "      <th>Airline</th>\n",
       "      <th>Source</th>\n",
       "      <th>Destination</th>\n",
       "      <th>Route</th>\n",
       "      <th>Arrival_Time</th>\n",
       "      <th>Duration</th>\n",
       "      <th>Total_Stops</th>\n",
       "      <th>Additional_Info</th>\n",
       "      <th>Price</th>\n",
       "      <th>journey_day</th>\n",
       "      <th>journey_month</th>\n",
       "      <th>dep_hour</th>\n",
       "      <th>dep_min</th>\n",
       "    </tr>\n",
       "  </thead>\n",
       "  <tbody>\n",
       "    <tr>\n",
       "      <th>0</th>\n",
       "      <td>IndiGo</td>\n",
       "      <td>Banglore</td>\n",
       "      <td>New Delhi</td>\n",
       "      <td>BLR ? DEL</td>\n",
       "      <td>01:10 22 Mar</td>\n",
       "      <td>2h 50m</td>\n",
       "      <td>non-stop</td>\n",
       "      <td>No info</td>\n",
       "      <td>3897</td>\n",
       "      <td>24</td>\n",
       "      <td>3</td>\n",
       "      <td>22</td>\n",
       "      <td>20</td>\n",
       "    </tr>\n",
       "    <tr>\n",
       "      <th>1</th>\n",
       "      <td>Air India</td>\n",
       "      <td>Kolkata</td>\n",
       "      <td>Banglore</td>\n",
       "      <td>CCU ? IXR ? BBI ? BLR</td>\n",
       "      <td>13:15</td>\n",
       "      <td>7h 25m</td>\n",
       "      <td>2 stops</td>\n",
       "      <td>No info</td>\n",
       "      <td>7662</td>\n",
       "      <td>1</td>\n",
       "      <td>5</td>\n",
       "      <td>5</td>\n",
       "      <td>50</td>\n",
       "    </tr>\n",
       "    <tr>\n",
       "      <th>2</th>\n",
       "      <td>Jet Airways</td>\n",
       "      <td>Delhi</td>\n",
       "      <td>Cochin</td>\n",
       "      <td>DEL ? LKO ? BOM ? COK</td>\n",
       "      <td>04:25 10 Jun</td>\n",
       "      <td>19h</td>\n",
       "      <td>2 stops</td>\n",
       "      <td>No info</td>\n",
       "      <td>13882</td>\n",
       "      <td>9</td>\n",
       "      <td>6</td>\n",
       "      <td>9</td>\n",
       "      <td>25</td>\n",
       "    </tr>\n",
       "    <tr>\n",
       "      <th>3</th>\n",
       "      <td>IndiGo</td>\n",
       "      <td>Kolkata</td>\n",
       "      <td>Banglore</td>\n",
       "      <td>CCU ? NAG ? BLR</td>\n",
       "      <td>23:30</td>\n",
       "      <td>5h 25m</td>\n",
       "      <td>1 stop</td>\n",
       "      <td>No info</td>\n",
       "      <td>6218</td>\n",
       "      <td>12</td>\n",
       "      <td>5</td>\n",
       "      <td>18</td>\n",
       "      <td>5</td>\n",
       "    </tr>\n",
       "    <tr>\n",
       "      <th>4</th>\n",
       "      <td>IndiGo</td>\n",
       "      <td>Banglore</td>\n",
       "      <td>New Delhi</td>\n",
       "      <td>BLR ? NAG ? DEL</td>\n",
       "      <td>21:35</td>\n",
       "      <td>4h 45m</td>\n",
       "      <td>1 stop</td>\n",
       "      <td>No info</td>\n",
       "      <td>13302</td>\n",
       "      <td>1</td>\n",
       "      <td>3</td>\n",
       "      <td>16</td>\n",
       "      <td>50</td>\n",
       "    </tr>\n",
       "  </tbody>\n",
       "</table>\n",
       "</div>"
      ],
      "text/plain": [
       "       Airline    Source Destination                  Route  Arrival_Time  \\\n",
       "0       IndiGo  Banglore   New Delhi              BLR ? DEL  01:10 22 Mar   \n",
       "1    Air India   Kolkata    Banglore  CCU ? IXR ? BBI ? BLR         13:15   \n",
       "2  Jet Airways     Delhi      Cochin  DEL ? LKO ? BOM ? COK  04:25 10 Jun   \n",
       "3       IndiGo   Kolkata    Banglore        CCU ? NAG ? BLR         23:30   \n",
       "4       IndiGo  Banglore   New Delhi        BLR ? NAG ? DEL         21:35   \n",
       "\n",
       "  Duration Total_Stops Additional_Info  Price  journey_day  journey_month  \\\n",
       "0   2h 50m    non-stop         No info   3897           24              3   \n",
       "1   7h 25m     2 stops         No info   7662            1              5   \n",
       "2      19h     2 stops         No info  13882            9              6   \n",
       "3   5h 25m      1 stop         No info   6218           12              5   \n",
       "4   4h 45m      1 stop         No info  13302            1              3   \n",
       "\n",
       "   dep_hour  dep_min  \n",
       "0        22       20  \n",
       "1         5       50  \n",
       "2         9       25  \n",
       "3        18        5  \n",
       "4        16       50  "
      ]
     },
     "execution_count": 28,
     "metadata": {},
     "output_type": "execute_result"
    }
   ],
   "source": [
    "df.head()"
   ]
  },
  {
   "cell_type": "code",
   "execution_count": 29,
   "id": "27bc642d",
   "metadata": {},
   "outputs": [
    {
     "data": {
      "text/plain": [
       "19:00           423\n",
       "21:00           360\n",
       "19:15           333\n",
       "16:10           154\n",
       "12:35           122\n",
       "               ... \n",
       "00:50 10 Jun      1\n",
       "00:50 16 Apr      1\n",
       "01:00 25 Apr      1\n",
       "21:20 13 Mar      1\n",
       "02:45 19 Apr      1\n",
       "Name: Arrival_Time, Length: 1343, dtype: int64"
      ]
     },
     "execution_count": 29,
     "metadata": {},
     "output_type": "execute_result"
    }
   ],
   "source": [
    "df['Arrival_Time'].value_counts()"
   ]
  },
  {
   "cell_type": "code",
   "execution_count": 30,
   "id": "79ab22a1",
   "metadata": {},
   "outputs": [],
   "source": [
    "df[\"arrival_hour\"] = pd.to_datetime(df[\"Arrival_Time\"]).dt.hour"
   ]
  },
  {
   "cell_type": "code",
   "execution_count": 31,
   "id": "a82c7d48",
   "metadata": {},
   "outputs": [],
   "source": [
    "df[\"arrival_minute\"] = pd.to_datetime(df[\"Arrival_Time\"]).dt.minute"
   ]
  },
  {
   "cell_type": "code",
   "execution_count": 32,
   "id": "dc5deeb1",
   "metadata": {},
   "outputs": [],
   "source": [
    "df.drop([\"Arrival_Time\"],axis=1, inplace= True)"
   ]
  },
  {
   "cell_type": "code",
   "execution_count": 33,
   "id": "483ebe46",
   "metadata": {},
   "outputs": [
    {
     "data": {
      "text/html": [
       "<div>\n",
       "<style scoped>\n",
       "    .dataframe tbody tr th:only-of-type {\n",
       "        vertical-align: middle;\n",
       "    }\n",
       "\n",
       "    .dataframe tbody tr th {\n",
       "        vertical-align: top;\n",
       "    }\n",
       "\n",
       "    .dataframe thead th {\n",
       "        text-align: right;\n",
       "    }\n",
       "</style>\n",
       "<table border=\"1\" class=\"dataframe\">\n",
       "  <thead>\n",
       "    <tr style=\"text-align: right;\">\n",
       "      <th></th>\n",
       "      <th>Airline</th>\n",
       "      <th>Source</th>\n",
       "      <th>Destination</th>\n",
       "      <th>Route</th>\n",
       "      <th>Duration</th>\n",
       "      <th>Total_Stops</th>\n",
       "      <th>Additional_Info</th>\n",
       "      <th>Price</th>\n",
       "      <th>journey_day</th>\n",
       "      <th>journey_month</th>\n",
       "      <th>dep_hour</th>\n",
       "      <th>dep_min</th>\n",
       "      <th>arrival_hour</th>\n",
       "      <th>arrival_minute</th>\n",
       "    </tr>\n",
       "  </thead>\n",
       "  <tbody>\n",
       "    <tr>\n",
       "      <th>0</th>\n",
       "      <td>IndiGo</td>\n",
       "      <td>Banglore</td>\n",
       "      <td>New Delhi</td>\n",
       "      <td>BLR ? DEL</td>\n",
       "      <td>2h 50m</td>\n",
       "      <td>non-stop</td>\n",
       "      <td>No info</td>\n",
       "      <td>3897</td>\n",
       "      <td>24</td>\n",
       "      <td>3</td>\n",
       "      <td>22</td>\n",
       "      <td>20</td>\n",
       "      <td>1</td>\n",
       "      <td>10</td>\n",
       "    </tr>\n",
       "    <tr>\n",
       "      <th>1</th>\n",
       "      <td>Air India</td>\n",
       "      <td>Kolkata</td>\n",
       "      <td>Banglore</td>\n",
       "      <td>CCU ? IXR ? BBI ? BLR</td>\n",
       "      <td>7h 25m</td>\n",
       "      <td>2 stops</td>\n",
       "      <td>No info</td>\n",
       "      <td>7662</td>\n",
       "      <td>1</td>\n",
       "      <td>5</td>\n",
       "      <td>5</td>\n",
       "      <td>50</td>\n",
       "      <td>13</td>\n",
       "      <td>15</td>\n",
       "    </tr>\n",
       "    <tr>\n",
       "      <th>2</th>\n",
       "      <td>Jet Airways</td>\n",
       "      <td>Delhi</td>\n",
       "      <td>Cochin</td>\n",
       "      <td>DEL ? LKO ? BOM ? COK</td>\n",
       "      <td>19h</td>\n",
       "      <td>2 stops</td>\n",
       "      <td>No info</td>\n",
       "      <td>13882</td>\n",
       "      <td>9</td>\n",
       "      <td>6</td>\n",
       "      <td>9</td>\n",
       "      <td>25</td>\n",
       "      <td>4</td>\n",
       "      <td>25</td>\n",
       "    </tr>\n",
       "    <tr>\n",
       "      <th>3</th>\n",
       "      <td>IndiGo</td>\n",
       "      <td>Kolkata</td>\n",
       "      <td>Banglore</td>\n",
       "      <td>CCU ? NAG ? BLR</td>\n",
       "      <td>5h 25m</td>\n",
       "      <td>1 stop</td>\n",
       "      <td>No info</td>\n",
       "      <td>6218</td>\n",
       "      <td>12</td>\n",
       "      <td>5</td>\n",
       "      <td>18</td>\n",
       "      <td>5</td>\n",
       "      <td>23</td>\n",
       "      <td>30</td>\n",
       "    </tr>\n",
       "    <tr>\n",
       "      <th>4</th>\n",
       "      <td>IndiGo</td>\n",
       "      <td>Banglore</td>\n",
       "      <td>New Delhi</td>\n",
       "      <td>BLR ? NAG ? DEL</td>\n",
       "      <td>4h 45m</td>\n",
       "      <td>1 stop</td>\n",
       "      <td>No info</td>\n",
       "      <td>13302</td>\n",
       "      <td>1</td>\n",
       "      <td>3</td>\n",
       "      <td>16</td>\n",
       "      <td>50</td>\n",
       "      <td>21</td>\n",
       "      <td>35</td>\n",
       "    </tr>\n",
       "  </tbody>\n",
       "</table>\n",
       "</div>"
      ],
      "text/plain": [
       "       Airline    Source Destination                  Route Duration  \\\n",
       "0       IndiGo  Banglore   New Delhi              BLR ? DEL   2h 50m   \n",
       "1    Air India   Kolkata    Banglore  CCU ? IXR ? BBI ? BLR   7h 25m   \n",
       "2  Jet Airways     Delhi      Cochin  DEL ? LKO ? BOM ? COK      19h   \n",
       "3       IndiGo   Kolkata    Banglore        CCU ? NAG ? BLR   5h 25m   \n",
       "4       IndiGo  Banglore   New Delhi        BLR ? NAG ? DEL   4h 45m   \n",
       "\n",
       "  Total_Stops Additional_Info  Price  journey_day  journey_month  dep_hour  \\\n",
       "0    non-stop         No info   3897           24              3        22   \n",
       "1     2 stops         No info   7662            1              5         5   \n",
       "2     2 stops         No info  13882            9              6         9   \n",
       "3      1 stop         No info   6218           12              5        18   \n",
       "4      1 stop         No info  13302            1              3        16   \n",
       "\n",
       "   dep_min  arrival_hour  arrival_minute  \n",
       "0       20             1              10  \n",
       "1       50            13              15  \n",
       "2       25             4              25  \n",
       "3        5            23              30  \n",
       "4       50            21              35  "
      ]
     },
     "execution_count": 33,
     "metadata": {},
     "output_type": "execute_result"
    }
   ],
   "source": [
    "df.head()"
   ]
  },
  {
   "cell_type": "code",
   "execution_count": 34,
   "id": "a9642e93",
   "metadata": {},
   "outputs": [
    {
     "data": {
      "text/plain": [
       "2h 50m     550\n",
       "1h 30m     386\n",
       "2h 55m     337\n",
       "2h 45m     337\n",
       "2h 35m     329\n",
       "          ... \n",
       "29h 10m      1\n",
       "13h 35m      1\n",
       "5m           1\n",
       "47h          1\n",
       "35h 20m      1\n",
       "Name: Duration, Length: 368, dtype: int64"
      ]
     },
     "execution_count": 34,
     "metadata": {},
     "output_type": "execute_result"
    }
   ],
   "source": [
    "df['Duration'].value_counts()"
   ]
  },
  {
   "cell_type": "code",
   "execution_count": 35,
   "id": "a95ee01a",
   "metadata": {},
   "outputs": [],
   "source": [
    "#df['Duration'] = df['Duration'].str.replace(\"h\",\":\")\n",
    "#df['Duration'] = df['Duration'].str.replace(\"m\",'')"
   ]
  },
  {
   "cell_type": "code",
   "execution_count": 36,
   "id": "ae6a0706",
   "metadata": {},
   "outputs": [],
   "source": [
    "#df[\"duration\"]= (df[\"arrival_hour\"]+df[\"arrival_minute\"])-(df[\"dep_hour\"]+df[\"dep_min\"])"
   ]
  },
  {
   "cell_type": "code",
   "execution_count": 37,
   "id": "d4abce75",
   "metadata": {},
   "outputs": [],
   "source": [
    "# Time taken by plane to reach destination is called Duration\n",
    "# It is the differnce betwwen Departure Time and Arrival time\n",
    "\n",
    "\n",
    "# Assigning and converting Duration column into list\n",
    "dduration = list(df[\"Duration\"])\n",
    "\n",
    "for i in range(len(dduration)):\n",
    "    if len(dduration[i].split()) != 2:    # Check if duration contains only hour or mins\n",
    "        if \"h\" in dduration[i]:\n",
    "            dduration[i] = dduration[i].strip() + \" 0m\"   # Adds 0 minute\n",
    "        else:\n",
    "            dduration[i] = \"0h \" + dduration[i]           # Adds 0 hour\n",
    "\n",
    "dduration_hours = []\n",
    "dduration_mins = []\n",
    "for i in range(len(dduration)):\n",
    "    dduration_hours.append(int(dduration[i].split(sep = \"h\")[0]))    # Extract hours from duration\n",
    "    dduration_mins.append(int(dduration[i].split(sep = \"m\")[0].split()[-1]))   # Extracts only minutes from duration"
   ]
  },
  {
   "cell_type": "code",
   "execution_count": 38,
   "id": "7182d5ac",
   "metadata": {},
   "outputs": [],
   "source": [
    "# Adding duration_hours and duration_mins list to train_data dataframe\n",
    "\n",
    "df[\"duration_hours\"] = dduration_hours\n",
    "df[\"duration_mins\"] = dduration_mins"
   ]
  },
  {
   "cell_type": "code",
   "execution_count": 39,
   "id": "7bb352cc",
   "metadata": {},
   "outputs": [],
   "source": [
    "df= df.drop(['Duration'], axis = 1)"
   ]
  },
  {
   "cell_type": "code",
   "execution_count": 40,
   "id": "d6f9130e",
   "metadata": {},
   "outputs": [
    {
     "data": {
      "text/html": [
       "<div>\n",
       "<style scoped>\n",
       "    .dataframe tbody tr th:only-of-type {\n",
       "        vertical-align: middle;\n",
       "    }\n",
       "\n",
       "    .dataframe tbody tr th {\n",
       "        vertical-align: top;\n",
       "    }\n",
       "\n",
       "    .dataframe thead th {\n",
       "        text-align: right;\n",
       "    }\n",
       "</style>\n",
       "<table border=\"1\" class=\"dataframe\">\n",
       "  <thead>\n",
       "    <tr style=\"text-align: right;\">\n",
       "      <th></th>\n",
       "      <th>Airline</th>\n",
       "      <th>Source</th>\n",
       "      <th>Destination</th>\n",
       "      <th>Route</th>\n",
       "      <th>Total_Stops</th>\n",
       "      <th>Additional_Info</th>\n",
       "      <th>Price</th>\n",
       "      <th>journey_day</th>\n",
       "      <th>journey_month</th>\n",
       "      <th>dep_hour</th>\n",
       "      <th>dep_min</th>\n",
       "      <th>arrival_hour</th>\n",
       "      <th>arrival_minute</th>\n",
       "      <th>duration_hours</th>\n",
       "      <th>duration_mins</th>\n",
       "    </tr>\n",
       "  </thead>\n",
       "  <tbody>\n",
       "    <tr>\n",
       "      <th>0</th>\n",
       "      <td>IndiGo</td>\n",
       "      <td>Banglore</td>\n",
       "      <td>New Delhi</td>\n",
       "      <td>BLR ? DEL</td>\n",
       "      <td>non-stop</td>\n",
       "      <td>No info</td>\n",
       "      <td>3897</td>\n",
       "      <td>24</td>\n",
       "      <td>3</td>\n",
       "      <td>22</td>\n",
       "      <td>20</td>\n",
       "      <td>1</td>\n",
       "      <td>10</td>\n",
       "      <td>2</td>\n",
       "      <td>50</td>\n",
       "    </tr>\n",
       "    <tr>\n",
       "      <th>1</th>\n",
       "      <td>Air India</td>\n",
       "      <td>Kolkata</td>\n",
       "      <td>Banglore</td>\n",
       "      <td>CCU ? IXR ? BBI ? BLR</td>\n",
       "      <td>2 stops</td>\n",
       "      <td>No info</td>\n",
       "      <td>7662</td>\n",
       "      <td>1</td>\n",
       "      <td>5</td>\n",
       "      <td>5</td>\n",
       "      <td>50</td>\n",
       "      <td>13</td>\n",
       "      <td>15</td>\n",
       "      <td>7</td>\n",
       "      <td>25</td>\n",
       "    </tr>\n",
       "    <tr>\n",
       "      <th>2</th>\n",
       "      <td>Jet Airways</td>\n",
       "      <td>Delhi</td>\n",
       "      <td>Cochin</td>\n",
       "      <td>DEL ? LKO ? BOM ? COK</td>\n",
       "      <td>2 stops</td>\n",
       "      <td>No info</td>\n",
       "      <td>13882</td>\n",
       "      <td>9</td>\n",
       "      <td>6</td>\n",
       "      <td>9</td>\n",
       "      <td>25</td>\n",
       "      <td>4</td>\n",
       "      <td>25</td>\n",
       "      <td>19</td>\n",
       "      <td>0</td>\n",
       "    </tr>\n",
       "    <tr>\n",
       "      <th>3</th>\n",
       "      <td>IndiGo</td>\n",
       "      <td>Kolkata</td>\n",
       "      <td>Banglore</td>\n",
       "      <td>CCU ? NAG ? BLR</td>\n",
       "      <td>1 stop</td>\n",
       "      <td>No info</td>\n",
       "      <td>6218</td>\n",
       "      <td>12</td>\n",
       "      <td>5</td>\n",
       "      <td>18</td>\n",
       "      <td>5</td>\n",
       "      <td>23</td>\n",
       "      <td>30</td>\n",
       "      <td>5</td>\n",
       "      <td>25</td>\n",
       "    </tr>\n",
       "    <tr>\n",
       "      <th>4</th>\n",
       "      <td>IndiGo</td>\n",
       "      <td>Banglore</td>\n",
       "      <td>New Delhi</td>\n",
       "      <td>BLR ? NAG ? DEL</td>\n",
       "      <td>1 stop</td>\n",
       "      <td>No info</td>\n",
       "      <td>13302</td>\n",
       "      <td>1</td>\n",
       "      <td>3</td>\n",
       "      <td>16</td>\n",
       "      <td>50</td>\n",
       "      <td>21</td>\n",
       "      <td>35</td>\n",
       "      <td>4</td>\n",
       "      <td>45</td>\n",
       "    </tr>\n",
       "  </tbody>\n",
       "</table>\n",
       "</div>"
      ],
      "text/plain": [
       "       Airline    Source Destination                  Route Total_Stops  \\\n",
       "0       IndiGo  Banglore   New Delhi              BLR ? DEL    non-stop   \n",
       "1    Air India   Kolkata    Banglore  CCU ? IXR ? BBI ? BLR     2 stops   \n",
       "2  Jet Airways     Delhi      Cochin  DEL ? LKO ? BOM ? COK     2 stops   \n",
       "3       IndiGo   Kolkata    Banglore        CCU ? NAG ? BLR      1 stop   \n",
       "4       IndiGo  Banglore   New Delhi        BLR ? NAG ? DEL      1 stop   \n",
       "\n",
       "  Additional_Info  Price  journey_day  journey_month  dep_hour  dep_min  \\\n",
       "0         No info   3897           24              3        22       20   \n",
       "1         No info   7662            1              5         5       50   \n",
       "2         No info  13882            9              6         9       25   \n",
       "3         No info   6218           12              5        18        5   \n",
       "4         No info  13302            1              3        16       50   \n",
       "\n",
       "   arrival_hour  arrival_minute  duration_hours  duration_mins  \n",
       "0             1              10               2             50  \n",
       "1            13              15               7             25  \n",
       "2             4              25              19              0  \n",
       "3            23              30               5             25  \n",
       "4            21              35               4             45  "
      ]
     },
     "execution_count": 40,
     "metadata": {},
     "output_type": "execute_result"
    }
   ],
   "source": [
    "df.head()"
   ]
  },
  {
   "cell_type": "code",
   "execution_count": 41,
   "id": "4d1f16b6",
   "metadata": {},
   "outputs": [
    {
     "data": {
      "text/plain": [
       "1 stop      5625\n",
       "non-stop    3491\n",
       "2 stops     1520\n",
       "3 stops       45\n",
       "0              1\n",
       "4 stops        1\n",
       "Name: Total_Stops, dtype: int64"
      ]
     },
     "execution_count": 41,
     "metadata": {},
     "output_type": "execute_result"
    }
   ],
   "source": [
    "df['Total_Stops'].value_counts()"
   ]
  },
  {
   "cell_type": "code",
   "execution_count": 42,
   "id": "527cb832",
   "metadata": {},
   "outputs": [],
   "source": [
    "df['Total_Stops'] = df['Total_Stops'].replace(\"1 stop\",\"1\")\n",
    "df['Total_Stops'] = df['Total_Stops'].replace(\"2 stops\",\"2\")\n",
    "df['Total_Stops'] = df['Total_Stops'].replace(\"3 stops\",\"3\")\n",
    "df['Total_Stops'] = df['Total_Stops'].replace(\"4 stops\",\"4\")\n",
    "df['Total_Stops'] = df['Total_Stops'].replace(\"non-stop\",\"0\")"
   ]
  },
  {
   "cell_type": "code",
   "execution_count": 43,
   "id": "bdabde8f",
   "metadata": {},
   "outputs": [
    {
     "data": {
      "text/plain": [
       "No info                         8345\n",
       "In-flight meal not included     1982\n",
       "No check-in baggage included     320\n",
       "1 Long layover                    19\n",
       "Change airports                    7\n",
       "Business class                     4\n",
       "No Info                            3\n",
       "2 Long layover                     1\n",
       "Red-eye flight                     1\n",
       "1 Short layover                    1\n",
       "Name: Additional_Info, dtype: int64"
      ]
     },
     "execution_count": 43,
     "metadata": {},
     "output_type": "execute_result"
    }
   ],
   "source": [
    "df['Additional_Info'].value_counts()"
   ]
  },
  {
   "cell_type": "code",
   "execution_count": 44,
   "id": "9e9b3c10",
   "metadata": {},
   "outputs": [],
   "source": [
    "df.drop([\"Additional_Info\" , \"Route\"],axis = 1, inplace=True)"
   ]
  },
  {
   "cell_type": "code",
   "execution_count": 45,
   "id": "b2bbed7d",
   "metadata": {},
   "outputs": [
    {
     "data": {
      "text/plain": [
       "10262    258\n",
       "10844    212\n",
       "7229     162\n",
       "4804     160\n",
       "4823     131\n",
       "        ... \n",
       "16946      1\n",
       "10783      1\n",
       "14861      1\n",
       "10759      1\n",
       "4098       1\n",
       "Name: Price, Length: 1870, dtype: int64"
      ]
     },
     "execution_count": 45,
     "metadata": {},
     "output_type": "execute_result"
    }
   ],
   "source": [
    "df['Price'].value_counts()"
   ]
  },
  {
   "cell_type": "code",
   "execution_count": 46,
   "id": "1ff3f151",
   "metadata": {},
   "outputs": [
    {
     "name": "stdout",
     "output_type": "stream",
     "text": [
      "<class 'pandas.core.frame.DataFrame'>\n",
      "RangeIndex: 10683 entries, 0 to 10682\n",
      "Data columns (total 13 columns):\n",
      " #   Column          Non-Null Count  Dtype \n",
      "---  ------          --------------  ----- \n",
      " 0   Airline         10683 non-null  object\n",
      " 1   Source          10683 non-null  object\n",
      " 2   Destination     10683 non-null  object\n",
      " 3   Total_Stops     10683 non-null  object\n",
      " 4   Price           10683 non-null  int64 \n",
      " 5   journey_day     10683 non-null  int64 \n",
      " 6   journey_month   10683 non-null  int64 \n",
      " 7   dep_hour        10683 non-null  int64 \n",
      " 8   dep_min         10683 non-null  int64 \n",
      " 9   arrival_hour    10683 non-null  int64 \n",
      " 10  arrival_minute  10683 non-null  int64 \n",
      " 11  duration_hours  10683 non-null  int64 \n",
      " 12  duration_mins   10683 non-null  int64 \n",
      "dtypes: int64(9), object(4)\n",
      "memory usage: 1.1+ MB\n"
     ]
    }
   ],
   "source": [
    "df.info()"
   ]
  },
  {
   "cell_type": "markdown",
   "id": "55b2e2d2",
   "metadata": {},
   "source": [
    "## Categorical to numerical Transformation"
   ]
  },
  {
   "cell_type": "markdown",
   "id": "3c1c4830",
   "metadata": {},
   "source": [
    "### 1. Using Pandas---OneHotEncoder"
   ]
  },
  {
   "cell_type": "code",
   "execution_count": 47,
   "id": "e94691c2",
   "metadata": {},
   "outputs": [
    {
     "data": {
      "text/html": [
       "<div>\n",
       "<style scoped>\n",
       "    .dataframe tbody tr th:only-of-type {\n",
       "        vertical-align: middle;\n",
       "    }\n",
       "\n",
       "    .dataframe tbody tr th {\n",
       "        vertical-align: top;\n",
       "    }\n",
       "\n",
       "    .dataframe thead th {\n",
       "        text-align: right;\n",
       "    }\n",
       "</style>\n",
       "<table border=\"1\" class=\"dataframe\">\n",
       "  <thead>\n",
       "    <tr style=\"text-align: right;\">\n",
       "      <th></th>\n",
       "      <th>Source</th>\n",
       "      <th>Destination</th>\n",
       "      <th>Total_Stops</th>\n",
       "      <th>Price</th>\n",
       "      <th>journey_day</th>\n",
       "      <th>journey_month</th>\n",
       "      <th>dep_hour</th>\n",
       "      <th>dep_min</th>\n",
       "      <th>arrival_hour</th>\n",
       "      <th>arrival_minute</th>\n",
       "      <th>...</th>\n",
       "      <th>Airline_GoAir</th>\n",
       "      <th>Airline_IndiGo</th>\n",
       "      <th>Airline_Jet Airways</th>\n",
       "      <th>Airline_Jet Airways Business</th>\n",
       "      <th>Airline_Multiple carriers</th>\n",
       "      <th>Airline_Multiple carriers Premium economy</th>\n",
       "      <th>Airline_SpiceJet</th>\n",
       "      <th>Airline_Trujet</th>\n",
       "      <th>Airline_Vistara</th>\n",
       "      <th>Airline_Vistara Premium economy</th>\n",
       "    </tr>\n",
       "  </thead>\n",
       "  <tbody>\n",
       "    <tr>\n",
       "      <th>0</th>\n",
       "      <td>Banglore</td>\n",
       "      <td>New Delhi</td>\n",
       "      <td>0</td>\n",
       "      <td>3897</td>\n",
       "      <td>24</td>\n",
       "      <td>3</td>\n",
       "      <td>22</td>\n",
       "      <td>20</td>\n",
       "      <td>1</td>\n",
       "      <td>10</td>\n",
       "      <td>...</td>\n",
       "      <td>0</td>\n",
       "      <td>1</td>\n",
       "      <td>0</td>\n",
       "      <td>0</td>\n",
       "      <td>0</td>\n",
       "      <td>0</td>\n",
       "      <td>0</td>\n",
       "      <td>0</td>\n",
       "      <td>0</td>\n",
       "      <td>0</td>\n",
       "    </tr>\n",
       "    <tr>\n",
       "      <th>1</th>\n",
       "      <td>Kolkata</td>\n",
       "      <td>Banglore</td>\n",
       "      <td>2</td>\n",
       "      <td>7662</td>\n",
       "      <td>1</td>\n",
       "      <td>5</td>\n",
       "      <td>5</td>\n",
       "      <td>50</td>\n",
       "      <td>13</td>\n",
       "      <td>15</td>\n",
       "      <td>...</td>\n",
       "      <td>0</td>\n",
       "      <td>0</td>\n",
       "      <td>0</td>\n",
       "      <td>0</td>\n",
       "      <td>0</td>\n",
       "      <td>0</td>\n",
       "      <td>0</td>\n",
       "      <td>0</td>\n",
       "      <td>0</td>\n",
       "      <td>0</td>\n",
       "    </tr>\n",
       "    <tr>\n",
       "      <th>2</th>\n",
       "      <td>Delhi</td>\n",
       "      <td>Cochin</td>\n",
       "      <td>2</td>\n",
       "      <td>13882</td>\n",
       "      <td>9</td>\n",
       "      <td>6</td>\n",
       "      <td>9</td>\n",
       "      <td>25</td>\n",
       "      <td>4</td>\n",
       "      <td>25</td>\n",
       "      <td>...</td>\n",
       "      <td>0</td>\n",
       "      <td>0</td>\n",
       "      <td>1</td>\n",
       "      <td>0</td>\n",
       "      <td>0</td>\n",
       "      <td>0</td>\n",
       "      <td>0</td>\n",
       "      <td>0</td>\n",
       "      <td>0</td>\n",
       "      <td>0</td>\n",
       "    </tr>\n",
       "    <tr>\n",
       "      <th>3</th>\n",
       "      <td>Kolkata</td>\n",
       "      <td>Banglore</td>\n",
       "      <td>1</td>\n",
       "      <td>6218</td>\n",
       "      <td>12</td>\n",
       "      <td>5</td>\n",
       "      <td>18</td>\n",
       "      <td>5</td>\n",
       "      <td>23</td>\n",
       "      <td>30</td>\n",
       "      <td>...</td>\n",
       "      <td>0</td>\n",
       "      <td>1</td>\n",
       "      <td>0</td>\n",
       "      <td>0</td>\n",
       "      <td>0</td>\n",
       "      <td>0</td>\n",
       "      <td>0</td>\n",
       "      <td>0</td>\n",
       "      <td>0</td>\n",
       "      <td>0</td>\n",
       "    </tr>\n",
       "    <tr>\n",
       "      <th>4</th>\n",
       "      <td>Banglore</td>\n",
       "      <td>New Delhi</td>\n",
       "      <td>1</td>\n",
       "      <td>13302</td>\n",
       "      <td>1</td>\n",
       "      <td>3</td>\n",
       "      <td>16</td>\n",
       "      <td>50</td>\n",
       "      <td>21</td>\n",
       "      <td>35</td>\n",
       "      <td>...</td>\n",
       "      <td>0</td>\n",
       "      <td>1</td>\n",
       "      <td>0</td>\n",
       "      <td>0</td>\n",
       "      <td>0</td>\n",
       "      <td>0</td>\n",
       "      <td>0</td>\n",
       "      <td>0</td>\n",
       "      <td>0</td>\n",
       "      <td>0</td>\n",
       "    </tr>\n",
       "  </tbody>\n",
       "</table>\n",
       "<p>5 rows × 23 columns</p>\n",
       "</div>"
      ],
      "text/plain": [
       "     Source Destination Total_Stops  Price  journey_day  journey_month  \\\n",
       "0  Banglore   New Delhi           0   3897           24              3   \n",
       "1   Kolkata    Banglore           2   7662            1              5   \n",
       "2     Delhi      Cochin           2  13882            9              6   \n",
       "3   Kolkata    Banglore           1   6218           12              5   \n",
       "4  Banglore   New Delhi           1  13302            1              3   \n",
       "\n",
       "   dep_hour  dep_min  arrival_hour  arrival_minute  ...  Airline_GoAir  \\\n",
       "0        22       20             1              10  ...              0   \n",
       "1         5       50            13              15  ...              0   \n",
       "2         9       25             4              25  ...              0   \n",
       "3        18        5            23              30  ...              0   \n",
       "4        16       50            21              35  ...              0   \n",
       "\n",
       "   Airline_IndiGo  Airline_Jet Airways  Airline_Jet Airways Business  \\\n",
       "0               1                    0                             0   \n",
       "1               0                    0                             0   \n",
       "2               0                    1                             0   \n",
       "3               1                    0                             0   \n",
       "4               1                    0                             0   \n",
       "\n",
       "   Airline_Multiple carriers  Airline_Multiple carriers Premium economy  \\\n",
       "0                          0                                          0   \n",
       "1                          0                                          0   \n",
       "2                          0                                          0   \n",
       "3                          0                                          0   \n",
       "4                          0                                          0   \n",
       "\n",
       "   Airline_SpiceJet  Airline_Trujet  Airline_Vistara  \\\n",
       "0                 0               0                0   \n",
       "1                 0               0                0   \n",
       "2                 0               0                0   \n",
       "3                 0               0                0   \n",
       "4                 0               0                0   \n",
       "\n",
       "   Airline_Vistara Premium economy  \n",
       "0                                0  \n",
       "1                                0  \n",
       "2                                0  \n",
       "3                                0  \n",
       "4                                0  \n",
       "\n",
       "[5 rows x 23 columns]"
      ]
     },
     "execution_count": 47,
     "metadata": {},
     "output_type": "execute_result"
    }
   ],
   "source": [
    "# As Airline is Nominal Categorical data we will perform OneHotEncoding\n",
    "\n",
    "dfone1 = df[[\"Airline\"]]\n",
    "\n",
    "dfone1 = pd.get_dummies(dfone1, drop_first= True)\n",
    "df = pd.concat([df,dfone1], axis = 1)\n",
    "df = df.drop(['Airline'],axis = 1)\n",
    "\n",
    "df.head()"
   ]
  },
  {
   "cell_type": "code",
   "execution_count": 48,
   "id": "1face6ee",
   "metadata": {},
   "outputs": [
    {
     "data": {
      "text/html": [
       "<div>\n",
       "<style scoped>\n",
       "    .dataframe tbody tr th:only-of-type {\n",
       "        vertical-align: middle;\n",
       "    }\n",
       "\n",
       "    .dataframe tbody tr th {\n",
       "        vertical-align: top;\n",
       "    }\n",
       "\n",
       "    .dataframe thead th {\n",
       "        text-align: right;\n",
       "    }\n",
       "</style>\n",
       "<table border=\"1\" class=\"dataframe\">\n",
       "  <thead>\n",
       "    <tr style=\"text-align: right;\">\n",
       "      <th></th>\n",
       "      <th>Destination</th>\n",
       "      <th>Total_Stops</th>\n",
       "      <th>Price</th>\n",
       "      <th>journey_day</th>\n",
       "      <th>journey_month</th>\n",
       "      <th>dep_hour</th>\n",
       "      <th>dep_min</th>\n",
       "      <th>arrival_hour</th>\n",
       "      <th>arrival_minute</th>\n",
       "      <th>duration_hours</th>\n",
       "      <th>...</th>\n",
       "      <th>Airline_Multiple carriers Premium economy</th>\n",
       "      <th>Airline_SpiceJet</th>\n",
       "      <th>Airline_Trujet</th>\n",
       "      <th>Airline_Vistara</th>\n",
       "      <th>Airline_Vistara Premium economy</th>\n",
       "      <th>Source_Banglore</th>\n",
       "      <th>Source_Chennai</th>\n",
       "      <th>Source_Delhi</th>\n",
       "      <th>Source_Kolkata</th>\n",
       "      <th>Source_Mumbai</th>\n",
       "    </tr>\n",
       "  </thead>\n",
       "  <tbody>\n",
       "    <tr>\n",
       "      <th>0</th>\n",
       "      <td>New Delhi</td>\n",
       "      <td>0</td>\n",
       "      <td>3897</td>\n",
       "      <td>24</td>\n",
       "      <td>3</td>\n",
       "      <td>22</td>\n",
       "      <td>20</td>\n",
       "      <td>1</td>\n",
       "      <td>10</td>\n",
       "      <td>2</td>\n",
       "      <td>...</td>\n",
       "      <td>0</td>\n",
       "      <td>0</td>\n",
       "      <td>0</td>\n",
       "      <td>0</td>\n",
       "      <td>0</td>\n",
       "      <td>1</td>\n",
       "      <td>0</td>\n",
       "      <td>0</td>\n",
       "      <td>0</td>\n",
       "      <td>0</td>\n",
       "    </tr>\n",
       "    <tr>\n",
       "      <th>1</th>\n",
       "      <td>Banglore</td>\n",
       "      <td>2</td>\n",
       "      <td>7662</td>\n",
       "      <td>1</td>\n",
       "      <td>5</td>\n",
       "      <td>5</td>\n",
       "      <td>50</td>\n",
       "      <td>13</td>\n",
       "      <td>15</td>\n",
       "      <td>7</td>\n",
       "      <td>...</td>\n",
       "      <td>0</td>\n",
       "      <td>0</td>\n",
       "      <td>0</td>\n",
       "      <td>0</td>\n",
       "      <td>0</td>\n",
       "      <td>0</td>\n",
       "      <td>0</td>\n",
       "      <td>0</td>\n",
       "      <td>1</td>\n",
       "      <td>0</td>\n",
       "    </tr>\n",
       "    <tr>\n",
       "      <th>2</th>\n",
       "      <td>Cochin</td>\n",
       "      <td>2</td>\n",
       "      <td>13882</td>\n",
       "      <td>9</td>\n",
       "      <td>6</td>\n",
       "      <td>9</td>\n",
       "      <td>25</td>\n",
       "      <td>4</td>\n",
       "      <td>25</td>\n",
       "      <td>19</td>\n",
       "      <td>...</td>\n",
       "      <td>0</td>\n",
       "      <td>0</td>\n",
       "      <td>0</td>\n",
       "      <td>0</td>\n",
       "      <td>0</td>\n",
       "      <td>0</td>\n",
       "      <td>0</td>\n",
       "      <td>1</td>\n",
       "      <td>0</td>\n",
       "      <td>0</td>\n",
       "    </tr>\n",
       "    <tr>\n",
       "      <th>3</th>\n",
       "      <td>Banglore</td>\n",
       "      <td>1</td>\n",
       "      <td>6218</td>\n",
       "      <td>12</td>\n",
       "      <td>5</td>\n",
       "      <td>18</td>\n",
       "      <td>5</td>\n",
       "      <td>23</td>\n",
       "      <td>30</td>\n",
       "      <td>5</td>\n",
       "      <td>...</td>\n",
       "      <td>0</td>\n",
       "      <td>0</td>\n",
       "      <td>0</td>\n",
       "      <td>0</td>\n",
       "      <td>0</td>\n",
       "      <td>0</td>\n",
       "      <td>0</td>\n",
       "      <td>0</td>\n",
       "      <td>1</td>\n",
       "      <td>0</td>\n",
       "    </tr>\n",
       "    <tr>\n",
       "      <th>4</th>\n",
       "      <td>New Delhi</td>\n",
       "      <td>1</td>\n",
       "      <td>13302</td>\n",
       "      <td>1</td>\n",
       "      <td>3</td>\n",
       "      <td>16</td>\n",
       "      <td>50</td>\n",
       "      <td>21</td>\n",
       "      <td>35</td>\n",
       "      <td>4</td>\n",
       "      <td>...</td>\n",
       "      <td>0</td>\n",
       "      <td>0</td>\n",
       "      <td>0</td>\n",
       "      <td>0</td>\n",
       "      <td>0</td>\n",
       "      <td>1</td>\n",
       "      <td>0</td>\n",
       "      <td>0</td>\n",
       "      <td>0</td>\n",
       "      <td>0</td>\n",
       "    </tr>\n",
       "  </tbody>\n",
       "</table>\n",
       "<p>5 rows × 27 columns</p>\n",
       "</div>"
      ],
      "text/plain": [
       "  Destination Total_Stops  Price  journey_day  journey_month  dep_hour  \\\n",
       "0   New Delhi           0   3897           24              3        22   \n",
       "1    Banglore           2   7662            1              5         5   \n",
       "2      Cochin           2  13882            9              6         9   \n",
       "3    Banglore           1   6218           12              5        18   \n",
       "4   New Delhi           1  13302            1              3        16   \n",
       "\n",
       "   dep_min  arrival_hour  arrival_minute  duration_hours  ...  \\\n",
       "0       20             1              10               2  ...   \n",
       "1       50            13              15               7  ...   \n",
       "2       25             4              25              19  ...   \n",
       "3        5            23              30               5  ...   \n",
       "4       50            21              35               4  ...   \n",
       "\n",
       "   Airline_Multiple carriers Premium economy  Airline_SpiceJet  \\\n",
       "0                                          0                 0   \n",
       "1                                          0                 0   \n",
       "2                                          0                 0   \n",
       "3                                          0                 0   \n",
       "4                                          0                 0   \n",
       "\n",
       "   Airline_Trujet  Airline_Vistara  Airline_Vistara Premium economy  \\\n",
       "0               0                0                                0   \n",
       "1               0                0                                0   \n",
       "2               0                0                                0   \n",
       "3               0                0                                0   \n",
       "4               0                0                                0   \n",
       "\n",
       "   Source_Banglore  Source_Chennai  Source_Delhi  Source_Kolkata  \\\n",
       "0                1               0             0               0   \n",
       "1                0               0             0               1   \n",
       "2                0               0             1               0   \n",
       "3                0               0             0               1   \n",
       "4                1               0             0               0   \n",
       "\n",
       "   Source_Mumbai  \n",
       "0              0  \n",
       "1              0  \n",
       "2              0  \n",
       "3              0  \n",
       "4              0  \n",
       "\n",
       "[5 rows x 27 columns]"
      ]
     },
     "execution_count": 48,
     "metadata": {},
     "output_type": "execute_result"
    }
   ],
   "source": [
    "dfone2 = df[[\"Source\"]]\n",
    "\n",
    "dfone2 = pd.get_dummies(dfone2)\n",
    "df = pd.concat([df,dfone2], axis = 1)\n",
    "df = df.drop(['Source'],axis = 1)\n",
    "\n",
    "df.head()"
   ]
  },
  {
   "cell_type": "code",
   "execution_count": 49,
   "id": "f05cc406",
   "metadata": {},
   "outputs": [
    {
     "data": {
      "text/html": [
       "<div>\n",
       "<style scoped>\n",
       "    .dataframe tbody tr th:only-of-type {\n",
       "        vertical-align: middle;\n",
       "    }\n",
       "\n",
       "    .dataframe tbody tr th {\n",
       "        vertical-align: top;\n",
       "    }\n",
       "\n",
       "    .dataframe thead th {\n",
       "        text-align: right;\n",
       "    }\n",
       "</style>\n",
       "<table border=\"1\" class=\"dataframe\">\n",
       "  <thead>\n",
       "    <tr style=\"text-align: right;\">\n",
       "      <th></th>\n",
       "      <th>Total_Stops</th>\n",
       "      <th>Price</th>\n",
       "      <th>journey_day</th>\n",
       "      <th>journey_month</th>\n",
       "      <th>dep_hour</th>\n",
       "      <th>dep_min</th>\n",
       "      <th>arrival_hour</th>\n",
       "      <th>arrival_minute</th>\n",
       "      <th>duration_hours</th>\n",
       "      <th>duration_mins</th>\n",
       "      <th>...</th>\n",
       "      <th>Source_Chennai</th>\n",
       "      <th>Source_Delhi</th>\n",
       "      <th>Source_Kolkata</th>\n",
       "      <th>Source_Mumbai</th>\n",
       "      <th>Destination_Banglore</th>\n",
       "      <th>Destination_Cochin</th>\n",
       "      <th>Destination_Delhi</th>\n",
       "      <th>Destination_Hyderabad</th>\n",
       "      <th>Destination_Kolkata</th>\n",
       "      <th>Destination_New Delhi</th>\n",
       "    </tr>\n",
       "  </thead>\n",
       "  <tbody>\n",
       "    <tr>\n",
       "      <th>0</th>\n",
       "      <td>0</td>\n",
       "      <td>3897</td>\n",
       "      <td>24</td>\n",
       "      <td>3</td>\n",
       "      <td>22</td>\n",
       "      <td>20</td>\n",
       "      <td>1</td>\n",
       "      <td>10</td>\n",
       "      <td>2</td>\n",
       "      <td>50</td>\n",
       "      <td>...</td>\n",
       "      <td>0</td>\n",
       "      <td>0</td>\n",
       "      <td>0</td>\n",
       "      <td>0</td>\n",
       "      <td>0</td>\n",
       "      <td>0</td>\n",
       "      <td>0</td>\n",
       "      <td>0</td>\n",
       "      <td>0</td>\n",
       "      <td>1</td>\n",
       "    </tr>\n",
       "    <tr>\n",
       "      <th>1</th>\n",
       "      <td>2</td>\n",
       "      <td>7662</td>\n",
       "      <td>1</td>\n",
       "      <td>5</td>\n",
       "      <td>5</td>\n",
       "      <td>50</td>\n",
       "      <td>13</td>\n",
       "      <td>15</td>\n",
       "      <td>7</td>\n",
       "      <td>25</td>\n",
       "      <td>...</td>\n",
       "      <td>0</td>\n",
       "      <td>0</td>\n",
       "      <td>1</td>\n",
       "      <td>0</td>\n",
       "      <td>1</td>\n",
       "      <td>0</td>\n",
       "      <td>0</td>\n",
       "      <td>0</td>\n",
       "      <td>0</td>\n",
       "      <td>0</td>\n",
       "    </tr>\n",
       "    <tr>\n",
       "      <th>2</th>\n",
       "      <td>2</td>\n",
       "      <td>13882</td>\n",
       "      <td>9</td>\n",
       "      <td>6</td>\n",
       "      <td>9</td>\n",
       "      <td>25</td>\n",
       "      <td>4</td>\n",
       "      <td>25</td>\n",
       "      <td>19</td>\n",
       "      <td>0</td>\n",
       "      <td>...</td>\n",
       "      <td>0</td>\n",
       "      <td>1</td>\n",
       "      <td>0</td>\n",
       "      <td>0</td>\n",
       "      <td>0</td>\n",
       "      <td>1</td>\n",
       "      <td>0</td>\n",
       "      <td>0</td>\n",
       "      <td>0</td>\n",
       "      <td>0</td>\n",
       "    </tr>\n",
       "    <tr>\n",
       "      <th>3</th>\n",
       "      <td>1</td>\n",
       "      <td>6218</td>\n",
       "      <td>12</td>\n",
       "      <td>5</td>\n",
       "      <td>18</td>\n",
       "      <td>5</td>\n",
       "      <td>23</td>\n",
       "      <td>30</td>\n",
       "      <td>5</td>\n",
       "      <td>25</td>\n",
       "      <td>...</td>\n",
       "      <td>0</td>\n",
       "      <td>0</td>\n",
       "      <td>1</td>\n",
       "      <td>0</td>\n",
       "      <td>1</td>\n",
       "      <td>0</td>\n",
       "      <td>0</td>\n",
       "      <td>0</td>\n",
       "      <td>0</td>\n",
       "      <td>0</td>\n",
       "    </tr>\n",
       "    <tr>\n",
       "      <th>4</th>\n",
       "      <td>1</td>\n",
       "      <td>13302</td>\n",
       "      <td>1</td>\n",
       "      <td>3</td>\n",
       "      <td>16</td>\n",
       "      <td>50</td>\n",
       "      <td>21</td>\n",
       "      <td>35</td>\n",
       "      <td>4</td>\n",
       "      <td>45</td>\n",
       "      <td>...</td>\n",
       "      <td>0</td>\n",
       "      <td>0</td>\n",
       "      <td>0</td>\n",
       "      <td>0</td>\n",
       "      <td>0</td>\n",
       "      <td>0</td>\n",
       "      <td>0</td>\n",
       "      <td>0</td>\n",
       "      <td>0</td>\n",
       "      <td>1</td>\n",
       "    </tr>\n",
       "  </tbody>\n",
       "</table>\n",
       "<p>5 rows × 32 columns</p>\n",
       "</div>"
      ],
      "text/plain": [
       "  Total_Stops  Price  journey_day  journey_month  dep_hour  dep_min  \\\n",
       "0           0   3897           24              3        22       20   \n",
       "1           2   7662            1              5         5       50   \n",
       "2           2  13882            9              6         9       25   \n",
       "3           1   6218           12              5        18        5   \n",
       "4           1  13302            1              3        16       50   \n",
       "\n",
       "   arrival_hour  arrival_minute  duration_hours  duration_mins  ...  \\\n",
       "0             1              10               2             50  ...   \n",
       "1            13              15               7             25  ...   \n",
       "2             4              25              19              0  ...   \n",
       "3            23              30               5             25  ...   \n",
       "4            21              35               4             45  ...   \n",
       "\n",
       "   Source_Chennai  Source_Delhi  Source_Kolkata  Source_Mumbai  \\\n",
       "0               0             0               0              0   \n",
       "1               0             0               1              0   \n",
       "2               0             1               0              0   \n",
       "3               0             0               1              0   \n",
       "4               0             0               0              0   \n",
       "\n",
       "   Destination_Banglore  Destination_Cochin  Destination_Delhi  \\\n",
       "0                     0                   0                  0   \n",
       "1                     1                   0                  0   \n",
       "2                     0                   1                  0   \n",
       "3                     1                   0                  0   \n",
       "4                     0                   0                  0   \n",
       "\n",
       "   Destination_Hyderabad  Destination_Kolkata  Destination_New Delhi  \n",
       "0                      0                    0                      1  \n",
       "1                      0                    0                      0  \n",
       "2                      0                    0                      0  \n",
       "3                      0                    0                      0  \n",
       "4                      0                    0                      1  \n",
       "\n",
       "[5 rows x 32 columns]"
      ]
     },
     "execution_count": 49,
     "metadata": {},
     "output_type": "execute_result"
    }
   ],
   "source": [
    "dfone3 = df[[\"Destination\"]]\n",
    "\n",
    "dfone3 = pd.get_dummies(dfone3)\n",
    "df = pd.concat([df,dfone3], axis = 1)\n",
    "df = df.drop(['Destination'],axis = 1)\n",
    "\n",
    "\n",
    "df.head()"
   ]
  },
  {
   "cell_type": "code",
   "execution_count": 50,
   "id": "b3ed5ca5",
   "metadata": {},
   "outputs": [
    {
     "name": "stdout",
     "output_type": "stream",
     "text": [
      "<class 'pandas.core.frame.DataFrame'>\n",
      "RangeIndex: 10683 entries, 0 to 10682\n",
      "Data columns (total 32 columns):\n",
      " #   Column                                     Non-Null Count  Dtype \n",
      "---  ------                                     --------------  ----- \n",
      " 0   Total_Stops                                10683 non-null  object\n",
      " 1   Price                                      10683 non-null  int64 \n",
      " 2   journey_day                                10683 non-null  int64 \n",
      " 3   journey_month                              10683 non-null  int64 \n",
      " 4   dep_hour                                   10683 non-null  int64 \n",
      " 5   dep_min                                    10683 non-null  int64 \n",
      " 6   arrival_hour                               10683 non-null  int64 \n",
      " 7   arrival_minute                             10683 non-null  int64 \n",
      " 8   duration_hours                             10683 non-null  int64 \n",
      " 9   duration_mins                              10683 non-null  int64 \n",
      " 10  Airline_Air India                          10683 non-null  uint8 \n",
      " 11  Airline_GoAir                              10683 non-null  uint8 \n",
      " 12  Airline_IndiGo                             10683 non-null  uint8 \n",
      " 13  Airline_Jet Airways                        10683 non-null  uint8 \n",
      " 14  Airline_Jet Airways Business               10683 non-null  uint8 \n",
      " 15  Airline_Multiple carriers                  10683 non-null  uint8 \n",
      " 16  Airline_Multiple carriers Premium economy  10683 non-null  uint8 \n",
      " 17  Airline_SpiceJet                           10683 non-null  uint8 \n",
      " 18  Airline_Trujet                             10683 non-null  uint8 \n",
      " 19  Airline_Vistara                            10683 non-null  uint8 \n",
      " 20  Airline_Vistara Premium economy            10683 non-null  uint8 \n",
      " 21  Source_Banglore                            10683 non-null  uint8 \n",
      " 22  Source_Chennai                             10683 non-null  uint8 \n",
      " 23  Source_Delhi                               10683 non-null  uint8 \n",
      " 24  Source_Kolkata                             10683 non-null  uint8 \n",
      " 25  Source_Mumbai                              10683 non-null  uint8 \n",
      " 26  Destination_Banglore                       10683 non-null  uint8 \n",
      " 27  Destination_Cochin                         10683 non-null  uint8 \n",
      " 28  Destination_Delhi                          10683 non-null  uint8 \n",
      " 29  Destination_Hyderabad                      10683 non-null  uint8 \n",
      " 30  Destination_Kolkata                        10683 non-null  uint8 \n",
      " 31  Destination_New Delhi                      10683 non-null  uint8 \n",
      "dtypes: int64(9), object(1), uint8(22)\n",
      "memory usage: 1.0+ MB\n"
     ]
    }
   ],
   "source": [
    "df.info()"
   ]
  },
  {
   "cell_type": "code",
   "execution_count": 51,
   "id": "745af323",
   "metadata": {},
   "outputs": [],
   "source": [
    "df['Total_Stops']= df['Total_Stops'].astype('int64')"
   ]
  },
  {
   "cell_type": "markdown",
   "id": "397ec4dc",
   "metadata": {},
   "source": [
    "# Plotting Histograms"
   ]
  },
  {
   "cell_type": "code",
   "execution_count": 52,
   "id": "bcd2c99e",
   "metadata": {},
   "outputs": [
    {
     "data": {
      "text/plain": [
       "array([[<AxesSubplot:title={'center':'Total_Stops'}>,\n",
       "        <AxesSubplot:title={'center':'Price'}>,\n",
       "        <AxesSubplot:title={'center':'journey_day'}>,\n",
       "        <AxesSubplot:title={'center':'journey_month'}>,\n",
       "        <AxesSubplot:title={'center':'dep_hour'}>,\n",
       "        <AxesSubplot:title={'center':'dep_min'}>],\n",
       "       [<AxesSubplot:title={'center':'arrival_hour'}>,\n",
       "        <AxesSubplot:title={'center':'arrival_minute'}>,\n",
       "        <AxesSubplot:title={'center':'duration_hours'}>,\n",
       "        <AxesSubplot:title={'center':'duration_mins'}>,\n",
       "        <AxesSubplot:title={'center':'Airline_Air India'}>,\n",
       "        <AxesSubplot:title={'center':'Airline_GoAir'}>],\n",
       "       [<AxesSubplot:title={'center':'Airline_IndiGo'}>,\n",
       "        <AxesSubplot:title={'center':'Airline_Jet Airways'}>,\n",
       "        <AxesSubplot:title={'center':'Airline_Jet Airways Business'}>,\n",
       "        <AxesSubplot:title={'center':'Airline_Multiple carriers'}>,\n",
       "        <AxesSubplot:title={'center':'Airline_Multiple carriers Premium economy'}>,\n",
       "        <AxesSubplot:title={'center':'Airline_SpiceJet'}>],\n",
       "       [<AxesSubplot:title={'center':'Airline_Trujet'}>,\n",
       "        <AxesSubplot:title={'center':'Airline_Vistara'}>,\n",
       "        <AxesSubplot:title={'center':'Airline_Vistara Premium economy'}>,\n",
       "        <AxesSubplot:title={'center':'Source_Banglore'}>,\n",
       "        <AxesSubplot:title={'center':'Source_Chennai'}>,\n",
       "        <AxesSubplot:title={'center':'Source_Delhi'}>],\n",
       "       [<AxesSubplot:title={'center':'Source_Kolkata'}>,\n",
       "        <AxesSubplot:title={'center':'Source_Mumbai'}>,\n",
       "        <AxesSubplot:title={'center':'Destination_Banglore'}>,\n",
       "        <AxesSubplot:title={'center':'Destination_Cochin'}>,\n",
       "        <AxesSubplot:title={'center':'Destination_Delhi'}>,\n",
       "        <AxesSubplot:title={'center':'Destination_Hyderabad'}>],\n",
       "       [<AxesSubplot:title={'center':'Destination_Kolkata'}>,\n",
       "        <AxesSubplot:title={'center':'Destination_New Delhi'}>,\n",
       "        <AxesSubplot:>, <AxesSubplot:>, <AxesSubplot:>, <AxesSubplot:>]],\n",
       "      dtype=object)"
      ]
     },
     "execution_count": 52,
     "metadata": {},
     "output_type": "execute_result"
    },
    {
     "data": {
      "image/png": "[encoded data removed]",
      "text/plain": [
       "<Figure size 1440x1080 with 36 Axes>"
      ]
     },
     "metadata": {
      "needs_background": "light"
     },
     "output_type": "display_data"
    }
   ],
   "source": [
    "%matplotlib inline\n",
    "import matplotlib.pyplot as plt\n",
    "df.hist(bins=50,figsize=(20,15))"
   ]
  },
  {
   "cell_type": "markdown",
   "id": "2b67fd3f",
   "metadata": {},
   "source": [
    "# Train-Test Splitting"
   ]
  },
  {
   "cell_type": "code",
   "execution_count": 53,
   "id": "6e00c378",
   "metadata": {},
   "outputs": [],
   "source": [
    "from sklearn.model_selection import train_test_split"
   ]
  },
  {
   "cell_type": "code",
   "execution_count": 54,
   "id": "bc17fb7d",
   "metadata": {},
   "outputs": [],
   "source": [
    "train_set,test_set = train_test_split(df,test_size = 0.2 , random_state = 42)"
   ]
  },
  {
   "cell_type": "code",
   "execution_count": 55,
   "id": "70fe293d",
   "metadata": {},
   "outputs": [
    {
     "name": "stdout",
     "output_type": "stream",
     "text": [
      "Rows in train set:8546\n",
      " Rows in test set:2137\n",
      "\n"
     ]
    }
   ],
   "source": [
    "print(f\"Rows in train set:{len(train_set)}\\n Rows in test set:{len(test_set)}\\n\")"
   ]
  },
  {
   "cell_type": "code",
   "execution_count": 56,
   "id": "5f1d9e5d",
   "metadata": {},
   "outputs": [],
   "source": [
    "# equal distribution of 0,1--------------using Stratified Sampling"
   ]
  },
  {
   "cell_type": "code",
   "execution_count": 57,
   "id": "7c19d931",
   "metadata": {},
   "outputs": [],
   "source": [
    "#from sklearn.model_selection import StratifiedShuffleSplit"
   ]
  },
  {
   "cell_type": "code",
   "execution_count": 58,
   "id": "0aa104f7",
   "metadata": {},
   "outputs": [],
   "source": [
    "#split = StratifiedShuffleSplit(n_splits=1, test_size=0.2,random_state=42)"
   ]
  },
  {
   "cell_type": "code",
   "execution_count": 59,
   "id": "a23df624",
   "metadata": {},
   "outputs": [],
   "source": [
    "#for train_index,test_index in split.split(df,df['fuel-type'],df['drive-wheels']):\n",
    " #   strat_train_set= df.loc[train_index]\n",
    "  #  strat_test_set= df.loc[test_index]"
   ]
  },
  {
   "cell_type": "code",
   "execution_count": 60,
   "id": "68b0f0bd",
   "metadata": {},
   "outputs": [],
   "source": [
    "#for train_index,test_index in split.split(df,df['aspiration'],df['engine-location']):\n",
    " #       strat_train_set= df.loc[train_index]\n",
    "  #      strat_test_set= df.loc[test_index]    "
   ]
  },
  {
   "cell_type": "code",
   "execution_count": 61,
   "id": "52f6e7d0",
   "metadata": {},
   "outputs": [
    {
     "data": {
      "text/html": [
       "<div>\n",
       "<style scoped>\n",
       "    .dataframe tbody tr th:only-of-type {\n",
       "        vertical-align: middle;\n",
       "    }\n",
       "\n",
       "    .dataframe tbody tr th {\n",
       "        vertical-align: top;\n",
       "    }\n",
       "\n",
       "    .dataframe thead th {\n",
       "        text-align: right;\n",
       "    }\n",
       "</style>\n",
       "<table border=\"1\" class=\"dataframe\">\n",
       "  <thead>\n",
       "    <tr style=\"text-align: right;\">\n",
       "      <th></th>\n",
       "      <th>Total_Stops</th>\n",
       "      <th>Price</th>\n",
       "      <th>journey_day</th>\n",
       "      <th>journey_month</th>\n",
       "      <th>dep_hour</th>\n",
       "      <th>dep_min</th>\n",
       "      <th>arrival_hour</th>\n",
       "      <th>arrival_minute</th>\n",
       "      <th>duration_hours</th>\n",
       "      <th>duration_mins</th>\n",
       "      <th>...</th>\n",
       "      <th>Source_Chennai</th>\n",
       "      <th>Source_Delhi</th>\n",
       "      <th>Source_Kolkata</th>\n",
       "      <th>Source_Mumbai</th>\n",
       "      <th>Destination_Banglore</th>\n",
       "      <th>Destination_Cochin</th>\n",
       "      <th>Destination_Delhi</th>\n",
       "      <th>Destination_Hyderabad</th>\n",
       "      <th>Destination_Kolkata</th>\n",
       "      <th>Destination_New Delhi</th>\n",
       "    </tr>\n",
       "  </thead>\n",
       "  <tbody>\n",
       "    <tr>\n",
       "      <th>6076</th>\n",
       "      <td>1</td>\n",
       "      <td>10844</td>\n",
       "      <td>18</td>\n",
       "      <td>5</td>\n",
       "      <td>5</td>\n",
       "      <td>45</td>\n",
       "      <td>18</td>\n",
       "      <td>15</td>\n",
       "      <td>12</td>\n",
       "      <td>30</td>\n",
       "      <td>...</td>\n",
       "      <td>0</td>\n",
       "      <td>0</td>\n",
       "      <td>1</td>\n",
       "      <td>0</td>\n",
       "      <td>1</td>\n",
       "      <td>0</td>\n",
       "      <td>0</td>\n",
       "      <td>0</td>\n",
       "      <td>0</td>\n",
       "      <td>0</td>\n",
       "    </tr>\n",
       "    <tr>\n",
       "      <th>3544</th>\n",
       "      <td>1</td>\n",
       "      <td>4959</td>\n",
       "      <td>3</td>\n",
       "      <td>6</td>\n",
       "      <td>10</td>\n",
       "      <td>35</td>\n",
       "      <td>19</td>\n",
       "      <td>35</td>\n",
       "      <td>9</td>\n",
       "      <td>0</td>\n",
       "      <td>...</td>\n",
       "      <td>0</td>\n",
       "      <td>1</td>\n",
       "      <td>0</td>\n",
       "      <td>0</td>\n",
       "      <td>0</td>\n",
       "      <td>1</td>\n",
       "      <td>0</td>\n",
       "      <td>0</td>\n",
       "      <td>0</td>\n",
       "      <td>0</td>\n",
       "    </tr>\n",
       "    <tr>\n",
       "      <th>7313</th>\n",
       "      <td>1</td>\n",
       "      <td>14781</td>\n",
       "      <td>1</td>\n",
       "      <td>5</td>\n",
       "      <td>14</td>\n",
       "      <td>5</td>\n",
       "      <td>19</td>\n",
       "      <td>50</td>\n",
       "      <td>5</td>\n",
       "      <td>45</td>\n",
       "      <td>...</td>\n",
       "      <td>0</td>\n",
       "      <td>0</td>\n",
       "      <td>1</td>\n",
       "      <td>0</td>\n",
       "      <td>1</td>\n",
       "      <td>0</td>\n",
       "      <td>0</td>\n",
       "      <td>0</td>\n",
       "      <td>0</td>\n",
       "      <td>0</td>\n",
       "    </tr>\n",
       "    <tr>\n",
       "      <th>5032</th>\n",
       "      <td>0</td>\n",
       "      <td>3858</td>\n",
       "      <td>24</td>\n",
       "      <td>5</td>\n",
       "      <td>14</td>\n",
       "      <td>45</td>\n",
       "      <td>17</td>\n",
       "      <td>5</td>\n",
       "      <td>2</td>\n",
       "      <td>20</td>\n",
       "      <td>...</td>\n",
       "      <td>1</td>\n",
       "      <td>0</td>\n",
       "      <td>0</td>\n",
       "      <td>0</td>\n",
       "      <td>0</td>\n",
       "      <td>0</td>\n",
       "      <td>0</td>\n",
       "      <td>0</td>\n",
       "      <td>1</td>\n",
       "      <td>0</td>\n",
       "    </tr>\n",
       "    <tr>\n",
       "      <th>2483</th>\n",
       "      <td>1</td>\n",
       "      <td>12898</td>\n",
       "      <td>21</td>\n",
       "      <td>5</td>\n",
       "      <td>22</td>\n",
       "      <td>50</td>\n",
       "      <td>4</td>\n",
       "      <td>25</td>\n",
       "      <td>5</td>\n",
       "      <td>35</td>\n",
       "      <td>...</td>\n",
       "      <td>0</td>\n",
       "      <td>1</td>\n",
       "      <td>0</td>\n",
       "      <td>0</td>\n",
       "      <td>0</td>\n",
       "      <td>1</td>\n",
       "      <td>0</td>\n",
       "      <td>0</td>\n",
       "      <td>0</td>\n",
       "      <td>0</td>\n",
       "    </tr>\n",
       "    <tr>\n",
       "      <th>...</th>\n",
       "      <td>...</td>\n",
       "      <td>...</td>\n",
       "      <td>...</td>\n",
       "      <td>...</td>\n",
       "      <td>...</td>\n",
       "      <td>...</td>\n",
       "      <td>...</td>\n",
       "      <td>...</td>\n",
       "      <td>...</td>\n",
       "      <td>...</td>\n",
       "      <td>...</td>\n",
       "      <td>...</td>\n",
       "      <td>...</td>\n",
       "      <td>...</td>\n",
       "      <td>...</td>\n",
       "      <td>...</td>\n",
       "      <td>...</td>\n",
       "      <td>...</td>\n",
       "      <td>...</td>\n",
       "      <td>...</td>\n",
       "      <td>...</td>\n",
       "    </tr>\n",
       "    <tr>\n",
       "      <th>9797</th>\n",
       "      <td>1</td>\n",
       "      <td>7408</td>\n",
       "      <td>27</td>\n",
       "      <td>6</td>\n",
       "      <td>8</td>\n",
       "      <td>0</td>\n",
       "      <td>21</td>\n",
       "      <td>0</td>\n",
       "      <td>13</td>\n",
       "      <td>0</td>\n",
       "      <td>...</td>\n",
       "      <td>0</td>\n",
       "      <td>1</td>\n",
       "      <td>0</td>\n",
       "      <td>0</td>\n",
       "      <td>0</td>\n",
       "      <td>1</td>\n",
       "      <td>0</td>\n",
       "      <td>0</td>\n",
       "      <td>0</td>\n",
       "      <td>0</td>\n",
       "    </tr>\n",
       "    <tr>\n",
       "      <th>9871</th>\n",
       "      <td>0</td>\n",
       "      <td>4622</td>\n",
       "      <td>6</td>\n",
       "      <td>3</td>\n",
       "      <td>17</td>\n",
       "      <td>15</td>\n",
       "      <td>19</td>\n",
       "      <td>45</td>\n",
       "      <td>2</td>\n",
       "      <td>30</td>\n",
       "      <td>...</td>\n",
       "      <td>0</td>\n",
       "      <td>0</td>\n",
       "      <td>1</td>\n",
       "      <td>0</td>\n",
       "      <td>1</td>\n",
       "      <td>0</td>\n",
       "      <td>0</td>\n",
       "      <td>0</td>\n",
       "      <td>0</td>\n",
       "      <td>0</td>\n",
       "    </tr>\n",
       "    <tr>\n",
       "      <th>10063</th>\n",
       "      <td>1</td>\n",
       "      <td>7452</td>\n",
       "      <td>21</td>\n",
       "      <td>4</td>\n",
       "      <td>7</td>\n",
       "      <td>55</td>\n",
       "      <td>22</td>\n",
       "      <td>25</td>\n",
       "      <td>14</td>\n",
       "      <td>30</td>\n",
       "      <td>...</td>\n",
       "      <td>0</td>\n",
       "      <td>1</td>\n",
       "      <td>0</td>\n",
       "      <td>0</td>\n",
       "      <td>0</td>\n",
       "      <td>1</td>\n",
       "      <td>0</td>\n",
       "      <td>0</td>\n",
       "      <td>0</td>\n",
       "      <td>0</td>\n",
       "    </tr>\n",
       "    <tr>\n",
       "      <th>7623</th>\n",
       "      <td>0</td>\n",
       "      <td>4823</td>\n",
       "      <td>9</td>\n",
       "      <td>4</td>\n",
       "      <td>8</td>\n",
       "      <td>30</td>\n",
       "      <td>11</td>\n",
       "      <td>20</td>\n",
       "      <td>2</td>\n",
       "      <td>50</td>\n",
       "      <td>...</td>\n",
       "      <td>0</td>\n",
       "      <td>0</td>\n",
       "      <td>0</td>\n",
       "      <td>0</td>\n",
       "      <td>0</td>\n",
       "      <td>0</td>\n",
       "      <td>1</td>\n",
       "      <td>0</td>\n",
       "      <td>0</td>\n",
       "      <td>0</td>\n",
       "    </tr>\n",
       "    <tr>\n",
       "      <th>8618</th>\n",
       "      <td>1</td>\n",
       "      <td>13731</td>\n",
       "      <td>9</td>\n",
       "      <td>6</td>\n",
       "      <td>16</td>\n",
       "      <td>30</td>\n",
       "      <td>4</td>\n",
       "      <td>40</td>\n",
       "      <td>12</td>\n",
       "      <td>10</td>\n",
       "      <td>...</td>\n",
       "      <td>0</td>\n",
       "      <td>0</td>\n",
       "      <td>1</td>\n",
       "      <td>0</td>\n",
       "      <td>1</td>\n",
       "      <td>0</td>\n",
       "      <td>0</td>\n",
       "      <td>0</td>\n",
       "      <td>0</td>\n",
       "      <td>0</td>\n",
       "    </tr>\n",
       "  </tbody>\n",
       "</table>\n",
       "<p>2137 rows × 32 columns</p>\n",
       "</div>"
      ],
      "text/plain": [
       "       Total_Stops  Price  journey_day  journey_month  dep_hour  dep_min  \\\n",
       "6076             1  10844           18              5         5       45   \n",
       "3544             1   4959            3              6        10       35   \n",
       "7313             1  14781            1              5        14        5   \n",
       "5032             0   3858           24              5        14       45   \n",
       "2483             1  12898           21              5        22       50   \n",
       "...            ...    ...          ...            ...       ...      ...   \n",
       "9797             1   7408           27              6         8        0   \n",
       "9871             0   4622            6              3        17       15   \n",
       "10063            1   7452           21              4         7       55   \n",
       "7623             0   4823            9              4         8       30   \n",
       "8618             1  13731            9              6        16       30   \n",
       "\n",
       "       arrival_hour  arrival_minute  duration_hours  duration_mins  ...  \\\n",
       "6076             18              15              12             30  ...   \n",
       "3544             19              35               9              0  ...   \n",
       "7313             19              50               5             45  ...   \n",
       "5032             17               5               2             20  ...   \n",
       "2483              4              25               5             35  ...   \n",
       "...             ...             ...             ...            ...  ...   \n",
       "9797             21               0              13              0  ...   \n",
       "9871             19              45               2             30  ...   \n",
       "10063            22              25              14             30  ...   \n",
       "7623             11              20               2             50  ...   \n",
       "8618              4              40              12             10  ...   \n",
       "\n",
       "       Source_Chennai  Source_Delhi  Source_Kolkata  Source_Mumbai  \\\n",
       "6076                0             0               1              0   \n",
       "3544                0             1               0              0   \n",
       "7313                0             0               1              0   \n",
       "5032                1             0               0              0   \n",
       "2483                0             1               0              0   \n",
       "...               ...           ...             ...            ...   \n",
       "9797                0             1               0              0   \n",
       "9871                0             0               1              0   \n",
       "10063               0             1               0              0   \n",
       "7623                0             0               0              0   \n",
       "8618                0             0               1              0   \n",
       "\n",
       "       Destination_Banglore  Destination_Cochin  Destination_Delhi  \\\n",
       "6076                      1                   0                  0   \n",
       "3544                      0                   1                  0   \n",
       "7313                      1                   0                  0   \n",
       "5032                      0                   0                  0   \n",
       "2483                      0                   1                  0   \n",
       "...                     ...                 ...                ...   \n",
       "9797                      0                   1                  0   \n",
       "9871                      1                   0                  0   \n",
       "10063                     0                   1                  0   \n",
       "7623                      0                   0                  1   \n",
       "8618                      1                   0                  0   \n",
       "\n",
       "       Destination_Hyderabad  Destination_Kolkata  Destination_New Delhi  \n",
       "6076                       0                    0                      0  \n",
       "3544                       0                    0                      0  \n",
       "7313                       0                    0                      0  \n",
       "5032                       0                    1                      0  \n",
       "2483                       0                    0                      0  \n",
       "...                      ...                  ...                    ...  \n",
       "9797                       0                    0                      0  \n",
       "9871                       0                    0                      0  \n",
       "10063                      0                    0                      0  \n",
       "7623                       0                    0                      0  \n",
       "8618                       0                    0                      0  \n",
       "\n",
       "[2137 rows x 32 columns]"
      ]
     },
     "execution_count": 61,
     "metadata": {},
     "output_type": "execute_result"
    }
   ],
   "source": [
    "test_set"
   ]
  },
  {
   "cell_type": "code",
   "execution_count": 62,
   "id": "56b14e29",
   "metadata": {},
   "outputs": [
    {
     "data": {
      "text/html": [
       "<div>\n",
       "<style scoped>\n",
       "    .dataframe tbody tr th:only-of-type {\n",
       "        vertical-align: middle;\n",
       "    }\n",
       "\n",
       "    .dataframe tbody tr th {\n",
       "        vertical-align: top;\n",
       "    }\n",
       "\n",
       "    .dataframe thead th {\n",
       "        text-align: right;\n",
       "    }\n",
       "</style>\n",
       "<table border=\"1\" class=\"dataframe\">\n",
       "  <thead>\n",
       "    <tr style=\"text-align: right;\">\n",
       "      <th></th>\n",
       "      <th>Total_Stops</th>\n",
       "      <th>Price</th>\n",
       "      <th>journey_day</th>\n",
       "      <th>journey_month</th>\n",
       "      <th>dep_hour</th>\n",
       "      <th>dep_min</th>\n",
       "      <th>arrival_hour</th>\n",
       "      <th>arrival_minute</th>\n",
       "      <th>duration_hours</th>\n",
       "      <th>duration_mins</th>\n",
       "      <th>...</th>\n",
       "      <th>Source_Chennai</th>\n",
       "      <th>Source_Delhi</th>\n",
       "      <th>Source_Kolkata</th>\n",
       "      <th>Source_Mumbai</th>\n",
       "      <th>Destination_Banglore</th>\n",
       "      <th>Destination_Cochin</th>\n",
       "      <th>Destination_Delhi</th>\n",
       "      <th>Destination_Hyderabad</th>\n",
       "      <th>Destination_Kolkata</th>\n",
       "      <th>Destination_New Delhi</th>\n",
       "    </tr>\n",
       "  </thead>\n",
       "  <tbody>\n",
       "    <tr>\n",
       "      <th>count</th>\n",
       "      <td>2137.000000</td>\n",
       "      <td>2137.000000</td>\n",
       "      <td>2137.000000</td>\n",
       "      <td>2137.000000</td>\n",
       "      <td>2137.000000</td>\n",
       "      <td>2137.000000</td>\n",
       "      <td>2137.000000</td>\n",
       "      <td>2137.000000</td>\n",
       "      <td>2137.000000</td>\n",
       "      <td>2137.000000</td>\n",
       "      <td>...</td>\n",
       "      <td>2137.000000</td>\n",
       "      <td>2137.000000</td>\n",
       "      <td>2137.000000</td>\n",
       "      <td>2137.000000</td>\n",
       "      <td>2137.000000</td>\n",
       "      <td>2137.000000</td>\n",
       "      <td>2137.000000</td>\n",
       "      <td>2137.000000</td>\n",
       "      <td>2137.000000</td>\n",
       "      <td>2137.000000</td>\n",
       "    </tr>\n",
       "    <tr>\n",
       "      <th>mean</th>\n",
       "      <td>0.828732</td>\n",
       "      <td>9135.997660</td>\n",
       "      <td>13.194197</td>\n",
       "      <td>4.708470</td>\n",
       "      <td>12.493215</td>\n",
       "      <td>24.386991</td>\n",
       "      <td>13.326158</td>\n",
       "      <td>24.749649</td>\n",
       "      <td>10.421619</td>\n",
       "      <td>28.130557</td>\n",
       "      <td>...</td>\n",
       "      <td>0.035096</td>\n",
       "      <td>0.440337</td>\n",
       "      <td>0.261582</td>\n",
       "      <td>0.066448</td>\n",
       "      <td>0.261582</td>\n",
       "      <td>0.440337</td>\n",
       "      <td>0.116051</td>\n",
       "      <td>0.066448</td>\n",
       "      <td>0.035096</td>\n",
       "      <td>0.080487</td>\n",
       "    </tr>\n",
       "    <tr>\n",
       "      <th>std</th>\n",
       "      <td>0.677112</td>\n",
       "      <td>4601.507827</td>\n",
       "      <td>8.481540</td>\n",
       "      <td>1.169481</td>\n",
       "      <td>5.777481</td>\n",
       "      <td>18.916049</td>\n",
       "      <td>6.831974</td>\n",
       "      <td>16.588643</td>\n",
       "      <td>8.566744</td>\n",
       "      <td>16.634659</td>\n",
       "      <td>...</td>\n",
       "      <td>0.184065</td>\n",
       "      <td>0.496544</td>\n",
       "      <td>0.439599</td>\n",
       "      <td>0.249122</td>\n",
       "      <td>0.439599</td>\n",
       "      <td>0.496544</td>\n",
       "      <td>0.320360</td>\n",
       "      <td>0.249122</td>\n",
       "      <td>0.184065</td>\n",
       "      <td>0.272109</td>\n",
       "    </tr>\n",
       "    <tr>\n",
       "      <th>min</th>\n",
       "      <td>0.000000</td>\n",
       "      <td>1965.000000</td>\n",
       "      <td>1.000000</td>\n",
       "      <td>3.000000</td>\n",
       "      <td>0.000000</td>\n",
       "      <td>0.000000</td>\n",
       "      <td>0.000000</td>\n",
       "      <td>0.000000</td>\n",
       "      <td>1.000000</td>\n",
       "      <td>0.000000</td>\n",
       "      <td>...</td>\n",
       "      <td>0.000000</td>\n",
       "      <td>0.000000</td>\n",
       "      <td>0.000000</td>\n",
       "      <td>0.000000</td>\n",
       "      <td>0.000000</td>\n",
       "      <td>0.000000</td>\n",
       "      <td>0.000000</td>\n",
       "      <td>0.000000</td>\n",
       "      <td>0.000000</td>\n",
       "      <td>0.000000</td>\n",
       "    </tr>\n",
       "    <tr>\n",
       "      <th>25%</th>\n",
       "      <td>0.000000</td>\n",
       "      <td>5298.000000</td>\n",
       "      <td>6.000000</td>\n",
       "      <td>3.000000</td>\n",
       "      <td>8.000000</td>\n",
       "      <td>5.000000</td>\n",
       "      <td>8.000000</td>\n",
       "      <td>15.000000</td>\n",
       "      <td>2.000000</td>\n",
       "      <td>15.000000</td>\n",
       "      <td>...</td>\n",
       "      <td>0.000000</td>\n",
       "      <td>0.000000</td>\n",
       "      <td>0.000000</td>\n",
       "      <td>0.000000</td>\n",
       "      <td>0.000000</td>\n",
       "      <td>0.000000</td>\n",
       "      <td>0.000000</td>\n",
       "      <td>0.000000</td>\n",
       "      <td>0.000000</td>\n",
       "      <td>0.000000</td>\n",
       "    </tr>\n",
       "    <tr>\n",
       "      <th>50%</th>\n",
       "      <td>1.000000</td>\n",
       "      <td>8452.000000</td>\n",
       "      <td>12.000000</td>\n",
       "      <td>5.000000</td>\n",
       "      <td>11.000000</td>\n",
       "      <td>25.000000</td>\n",
       "      <td>14.000000</td>\n",
       "      <td>25.000000</td>\n",
       "      <td>9.000000</td>\n",
       "      <td>30.000000</td>\n",
       "      <td>...</td>\n",
       "      <td>0.000000</td>\n",
       "      <td>0.000000</td>\n",
       "      <td>0.000000</td>\n",
       "      <td>0.000000</td>\n",
       "      <td>0.000000</td>\n",
       "      <td>0.000000</td>\n",
       "      <td>0.000000</td>\n",
       "      <td>0.000000</td>\n",
       "      <td>0.000000</td>\n",
       "      <td>0.000000</td>\n",
       "    </tr>\n",
       "    <tr>\n",
       "      <th>75%</th>\n",
       "      <td>1.000000</td>\n",
       "      <td>12373.000000</td>\n",
       "      <td>21.000000</td>\n",
       "      <td>6.000000</td>\n",
       "      <td>18.000000</td>\n",
       "      <td>40.000000</td>\n",
       "      <td>19.000000</td>\n",
       "      <td>35.000000</td>\n",
       "      <td>15.000000</td>\n",
       "      <td>40.000000</td>\n",
       "      <td>...</td>\n",
       "      <td>0.000000</td>\n",
       "      <td>1.000000</td>\n",
       "      <td>1.000000</td>\n",
       "      <td>0.000000</td>\n",
       "      <td>1.000000</td>\n",
       "      <td>1.000000</td>\n",
       "      <td>0.000000</td>\n",
       "      <td>0.000000</td>\n",
       "      <td>0.000000</td>\n",
       "      <td>0.000000</td>\n",
       "    </tr>\n",
       "    <tr>\n",
       "      <th>max</th>\n",
       "      <td>3.000000</td>\n",
       "      <td>57209.000000</td>\n",
       "      <td>27.000000</td>\n",
       "      <td>6.000000</td>\n",
       "      <td>23.000000</td>\n",
       "      <td>55.000000</td>\n",
       "      <td>23.000000</td>\n",
       "      <td>55.000000</td>\n",
       "      <td>47.000000</td>\n",
       "      <td>55.000000</td>\n",
       "      <td>...</td>\n",
       "      <td>1.000000</td>\n",
       "      <td>1.000000</td>\n",
       "      <td>1.000000</td>\n",
       "      <td>1.000000</td>\n",
       "      <td>1.000000</td>\n",
       "      <td>1.000000</td>\n",
       "      <td>1.000000</td>\n",
       "      <td>1.000000</td>\n",
       "      <td>1.000000</td>\n",
       "      <td>1.000000</td>\n",
       "    </tr>\n",
       "  </tbody>\n",
       "</table>\n",
       "<p>8 rows × 32 columns</p>\n",
       "</div>"
      ],
      "text/plain": [
       "       Total_Stops         Price  journey_day  journey_month     dep_hour  \\\n",
       "count  2137.000000   2137.000000  2137.000000    2137.000000  2137.000000   \n",
       "mean      0.828732   9135.997660    13.194197       4.708470    12.493215   \n",
       "std       0.677112   4601.507827     8.481540       1.169481     5.777481   \n",
       "min       0.000000   1965.000000     1.000000       3.000000     0.000000   \n",
       "25%       0.000000   5298.000000     6.000000       3.000000     8.000000   \n",
       "50%       1.000000   8452.000000    12.000000       5.000000    11.000000   \n",
       "75%       1.000000  12373.000000    21.000000       6.000000    18.000000   \n",
       "max       3.000000  57209.000000    27.000000       6.000000    23.000000   \n",
       "\n",
       "           dep_min  arrival_hour  arrival_minute  duration_hours  \\\n",
       "count  2137.000000   2137.000000     2137.000000     2137.000000   \n",
       "mean     24.386991     13.326158       24.749649       10.421619   \n",
       "std      18.916049      6.831974       16.588643        8.566744   \n",
       "min       0.000000      0.000000        0.000000        1.000000   \n",
       "25%       5.000000      8.000000       15.000000        2.000000   \n",
       "50%      25.000000     14.000000       25.000000        9.000000   \n",
       "75%      40.000000     19.000000       35.000000       15.000000   \n",
       "max      55.000000     23.000000       55.000000       47.000000   \n",
       "\n",
       "       duration_mins  ...  Source_Chennai  Source_Delhi  Source_Kolkata  \\\n",
       "count    2137.000000  ...     2137.000000   2137.000000     2137.000000   \n",
       "mean       28.130557  ...        0.035096      0.440337        0.261582   \n",
       "std        16.634659  ...        0.184065      0.496544        0.439599   \n",
       "min         0.000000  ...        0.000000      0.000000        0.000000   \n",
       "25%        15.000000  ...        0.000000      0.000000        0.000000   \n",
       "50%        30.000000  ...        0.000000      0.000000        0.000000   \n",
       "75%        40.000000  ...        0.000000      1.000000        1.000000   \n",
       "max        55.000000  ...        1.000000      1.000000        1.000000   \n",
       "\n",
       "       Source_Mumbai  Destination_Banglore  Destination_Cochin  \\\n",
       "count    2137.000000           2137.000000         2137.000000   \n",
       "mean        0.066448              0.261582            0.440337   \n",
       "std         0.249122              0.439599            0.496544   \n",
       "min         0.000000              0.000000            0.000000   \n",
       "25%         0.000000              0.000000            0.000000   \n",
       "50%         0.000000              0.000000            0.000000   \n",
       "75%         0.000000              1.000000            1.000000   \n",
       "max         1.000000              1.000000            1.000000   \n",
       "\n",
       "       Destination_Delhi  Destination_Hyderabad  Destination_Kolkata  \\\n",
       "count        2137.000000            2137.000000          2137.000000   \n",
       "mean            0.116051               0.066448             0.035096   \n",
       "std             0.320360               0.249122             0.184065   \n",
       "min             0.000000               0.000000             0.000000   \n",
       "25%             0.000000               0.000000             0.000000   \n",
       "50%             0.000000               0.000000             0.000000   \n",
       "75%             0.000000               0.000000             0.000000   \n",
       "max             1.000000               1.000000             1.000000   \n",
       "\n",
       "       Destination_New Delhi  \n",
       "count            2137.000000  \n",
       "mean                0.080487  \n",
       "std                 0.272109  \n",
       "min                 0.000000  \n",
       "25%                 0.000000  \n",
       "50%                 0.000000  \n",
       "75%                 0.000000  \n",
       "max                 1.000000  \n",
       "\n",
       "[8 rows x 32 columns]"
      ]
     },
     "execution_count": 62,
     "metadata": {},
     "output_type": "execute_result"
    }
   ],
   "source": [
    "test_set.describe()"
   ]
  },
  {
   "cell_type": "code",
   "execution_count": 63,
   "id": "c723aa9a",
   "metadata": {},
   "outputs": [],
   "source": [
    "df = train_set.copy()"
   ]
  },
  {
   "cell_type": "markdown",
   "id": "fe37efa1",
   "metadata": {},
   "source": [
    "# Looking For Correlations"
   ]
  },
  {
   "cell_type": "code",
   "execution_count": 64,
   "id": "1a0f2d46",
   "metadata": {},
   "outputs": [],
   "source": [
    "corr_matrix = df.corr()"
   ]
  },
  {
   "cell_type": "code",
   "execution_count": 65,
   "id": "161c90ee",
   "metadata": {},
   "outputs": [
    {
     "data": {
      "text/plain": [
       "Price                                        1.000000\n",
       "Total_Stops                                  0.608427\n",
       "duration_hours                               0.510731\n",
       "Airline_Jet Airways                          0.413318\n",
       "Destination_Cochin                           0.272429\n",
       "Source_Delhi                                 0.272429\n",
       "Airline_Jet Airways Business                 0.259659\n",
       "Destination_New Delhi                        0.177529\n",
       "Airline_Multiple carriers                    0.139109\n",
       "Airline_Air India                            0.055644\n",
       "arrival_hour                                 0.028476\n",
       "Airline_Multiple carriers Premium economy    0.019830\n",
       "Destination_Banglore                         0.015297\n",
       "Source_Kolkata                               0.015297\n",
       "Airline_Vistara Premium economy              0.000118\n",
       "dep_hour                                    -0.000354\n",
       "Airline_Trujet                              -0.011571\n",
       "dep_min                                     -0.029850\n",
       "Airline_Vistara                             -0.062503\n",
       "arrival_minute                              -0.088406\n",
       "Airline_GoAir                               -0.088946\n",
       "journey_month                               -0.102919\n",
       "Source_Banglore                             -0.125885\n",
       "duration_mins                               -0.129681\n",
       "journey_day                                 -0.149356\n",
       "Source_Chennai                              -0.182215\n",
       "Destination_Kolkata                         -0.182215\n",
       "Source_Mumbai                               -0.228649\n",
       "Destination_Hyderabad                       -0.228649\n",
       "Airline_SpiceJet                            -0.295405\n",
       "Destination_Delhi                           -0.313845\n",
       "Airline_IndiGo                              -0.363521\n",
       "Name: Price, dtype: float64"
      ]
     },
     "execution_count": 65,
     "metadata": {},
     "output_type": "execute_result"
    }
   ],
   "source": [
    "corr_matrix['Price'].sort_values(ascending=False)"
   ]
  },
  {
   "cell_type": "markdown",
   "id": "ee809995",
   "metadata": {},
   "source": [
    "# Plotting Graphs"
   ]
  },
  {
   "cell_type": "code",
   "execution_count": 66,
   "id": "1cb0b4b3",
   "metadata": {},
   "outputs": [],
   "source": [
    "from pandas.plotting import scatter_matrix\n",
    "attributes = [\"Price\",\"Total_Stops\",\"duration_hours\"]"
   ]
  },
  {
   "cell_type": "code",
   "execution_count": 67,
   "id": "125bff52",
   "metadata": {},
   "outputs": [
    {
     "data": {
      "text/plain": [
       "array([[<AxesSubplot:xlabel='Price', ylabel='Price'>,\n",
       "        <AxesSubplot:xlabel='Total_Stops', ylabel='Price'>,\n",
       "        <AxesSubplot:xlabel='duration_hours', ylabel='Price'>],\n",
       "       [<AxesSubplot:xlabel='Price', ylabel='Total_Stops'>,\n",
       "        <AxesSubplot:xlabel='Total_Stops', ylabel='Total_Stops'>,\n",
       "        <AxesSubplot:xlabel='duration_hours', ylabel='Total_Stops'>],\n",
       "       [<AxesSubplot:xlabel='Price', ylabel='duration_hours'>,\n",
       "        <AxesSubplot:xlabel='Total_Stops', ylabel='duration_hours'>,\n",
       "        <AxesSubplot:xlabel='duration_hours', ylabel='duration_hours'>]],\n",
       "      dtype=object)"
      ]
     },
     "execution_count": 67,
     "metadata": {},
     "output_type": "execute_result"
    },
    {
     "data": {
      "image/png": "[encoded data removed]",
      "text/plain": [
       "<Figure size 864x576 with 9 Axes>"
      ]
     },
     "metadata": {
      "needs_background": "light"
     },
     "output_type": "display_data"
    }
   ],
   "source": [
    "scatter_matrix(df[attributes],figsize=(12,8))"
   ]
  },
  {
   "cell_type": "code",
   "execution_count": 68,
   "id": "14d39f34",
   "metadata": {},
   "outputs": [
    {
     "data": {
      "text/plain": [
       "<AxesSubplot:xlabel='Total_Stops', ylabel='Price'>"
      ]
     },
     "execution_count": 68,
     "metadata": {},
     "output_type": "execute_result"
    },
    {
     "data": {
      "image/png": "[encoded data removed]",
      "text/plain": [
       "<Figure size 432x288 with 1 Axes>"
      ]
     },
     "metadata": {
      "needs_background": "light"
     },
     "output_type": "display_data"
    }
   ],
   "source": [
    "df.plot(kind=\"scatter\",x=\"Total_Stops\",y=\"Price\",alpha=0.8)"
   ]
  },
  {
   "cell_type": "markdown",
   "id": "1af2b585",
   "metadata": {},
   "source": [
    "# Splitting Features and Labels"
   ]
  },
  {
   "cell_type": "code",
   "execution_count": 69,
   "id": "68362ba9",
   "metadata": {},
   "outputs": [],
   "source": [
    "df= train_set.drop(\"Price\",axis=1)\n",
    "df_labels = train_set[\"Price\"].copy()"
   ]
  },
  {
   "cell_type": "code",
   "execution_count": 70,
   "id": "9601810e",
   "metadata": {},
   "outputs": [
    {
     "data": {
      "text/html": [
       "<div>\n",
       "<style scoped>\n",
       "    .dataframe tbody tr th:only-of-type {\n",
       "        vertical-align: middle;\n",
       "    }\n",
       "\n",
       "    .dataframe tbody tr th {\n",
       "        vertical-align: top;\n",
       "    }\n",
       "\n",
       "    .dataframe thead th {\n",
       "        text-align: right;\n",
       "    }\n",
       "</style>\n",
       "<table border=\"1\" class=\"dataframe\">\n",
       "  <thead>\n",
       "    <tr style=\"text-align: right;\">\n",
       "      <th></th>\n",
       "      <th>Total_Stops</th>\n",
       "      <th>journey_day</th>\n",
       "      <th>journey_month</th>\n",
       "      <th>dep_hour</th>\n",
       "      <th>dep_min</th>\n",
       "      <th>arrival_hour</th>\n",
       "      <th>arrival_minute</th>\n",
       "      <th>duration_hours</th>\n",
       "      <th>duration_mins</th>\n",
       "      <th>Airline_Air India</th>\n",
       "      <th>...</th>\n",
       "      <th>Source_Chennai</th>\n",
       "      <th>Source_Delhi</th>\n",
       "      <th>Source_Kolkata</th>\n",
       "      <th>Source_Mumbai</th>\n",
       "      <th>Destination_Banglore</th>\n",
       "      <th>Destination_Cochin</th>\n",
       "      <th>Destination_Delhi</th>\n",
       "      <th>Destination_Hyderabad</th>\n",
       "      <th>Destination_Kolkata</th>\n",
       "      <th>Destination_New Delhi</th>\n",
       "    </tr>\n",
       "  </thead>\n",
       "  <tbody>\n",
       "    <tr>\n",
       "      <th>8990</th>\n",
       "      <td>2</td>\n",
       "      <td>12</td>\n",
       "      <td>3</td>\n",
       "      <td>6</td>\n",
       "      <td>30</td>\n",
       "      <td>16</td>\n",
       "      <td>35</td>\n",
       "      <td>10</td>\n",
       "      <td>5</td>\n",
       "      <td>0</td>\n",
       "      <td>...</td>\n",
       "      <td>0</td>\n",
       "      <td>0</td>\n",
       "      <td>0</td>\n",
       "      <td>1</td>\n",
       "      <td>0</td>\n",
       "      <td>0</td>\n",
       "      <td>0</td>\n",
       "      <td>1</td>\n",
       "      <td>0</td>\n",
       "      <td>0</td>\n",
       "    </tr>\n",
       "    <tr>\n",
       "      <th>3684</th>\n",
       "      <td>1</td>\n",
       "      <td>9</td>\n",
       "      <td>5</td>\n",
       "      <td>11</td>\n",
       "      <td>30</td>\n",
       "      <td>12</td>\n",
       "      <td>35</td>\n",
       "      <td>25</td>\n",
       "      <td>5</td>\n",
       "      <td>0</td>\n",
       "      <td>...</td>\n",
       "      <td>0</td>\n",
       "      <td>1</td>\n",
       "      <td>0</td>\n",
       "      <td>0</td>\n",
       "      <td>0</td>\n",
       "      <td>1</td>\n",
       "      <td>0</td>\n",
       "      <td>0</td>\n",
       "      <td>0</td>\n",
       "      <td>0</td>\n",
       "    </tr>\n",
       "    <tr>\n",
       "      <th>1034</th>\n",
       "      <td>1</td>\n",
       "      <td>24</td>\n",
       "      <td>4</td>\n",
       "      <td>15</td>\n",
       "      <td>45</td>\n",
       "      <td>22</td>\n",
       "      <td>5</td>\n",
       "      <td>6</td>\n",
       "      <td>20</td>\n",
       "      <td>0</td>\n",
       "      <td>...</td>\n",
       "      <td>0</td>\n",
       "      <td>1</td>\n",
       "      <td>0</td>\n",
       "      <td>0</td>\n",
       "      <td>0</td>\n",
       "      <td>1</td>\n",
       "      <td>0</td>\n",
       "      <td>0</td>\n",
       "      <td>0</td>\n",
       "      <td>0</td>\n",
       "    </tr>\n",
       "    <tr>\n",
       "      <th>3909</th>\n",
       "      <td>1</td>\n",
       "      <td>21</td>\n",
       "      <td>3</td>\n",
       "      <td>12</td>\n",
       "      <td>50</td>\n",
       "      <td>1</td>\n",
       "      <td>35</td>\n",
       "      <td>12</td>\n",
       "      <td>45</td>\n",
       "      <td>0</td>\n",
       "      <td>...</td>\n",
       "      <td>0</td>\n",
       "      <td>1</td>\n",
       "      <td>0</td>\n",
       "      <td>0</td>\n",
       "      <td>0</td>\n",
       "      <td>1</td>\n",
       "      <td>0</td>\n",
       "      <td>0</td>\n",
       "      <td>0</td>\n",
       "      <td>0</td>\n",
       "    </tr>\n",
       "    <tr>\n",
       "      <th>3088</th>\n",
       "      <td>2</td>\n",
       "      <td>24</td>\n",
       "      <td>6</td>\n",
       "      <td>17</td>\n",
       "      <td>15</td>\n",
       "      <td>19</td>\n",
       "      <td>15</td>\n",
       "      <td>26</td>\n",
       "      <td>0</td>\n",
       "      <td>1</td>\n",
       "      <td>...</td>\n",
       "      <td>0</td>\n",
       "      <td>1</td>\n",
       "      <td>0</td>\n",
       "      <td>0</td>\n",
       "      <td>0</td>\n",
       "      <td>1</td>\n",
       "      <td>0</td>\n",
       "      <td>0</td>\n",
       "      <td>0</td>\n",
       "      <td>0</td>\n",
       "    </tr>\n",
       "  </tbody>\n",
       "</table>\n",
       "<p>5 rows × 31 columns</p>\n",
       "</div>"
      ],
      "text/plain": [
       "      Total_Stops  journey_day  journey_month  dep_hour  dep_min  \\\n",
       "8990            2           12              3         6       30   \n",
       "3684            1            9              5        11       30   \n",
       "1034            1           24              4        15       45   \n",
       "3909            1           21              3        12       50   \n",
       "3088            2           24              6        17       15   \n",
       "\n",
       "      arrival_hour  arrival_minute  duration_hours  duration_mins  \\\n",
       "8990            16              35              10              5   \n",
       "3684            12              35              25              5   \n",
       "1034            22               5               6             20   \n",
       "3909             1              35              12             45   \n",
       "3088            19              15              26              0   \n",
       "\n",
       "      Airline_Air India  ...  Source_Chennai  Source_Delhi  Source_Kolkata  \\\n",
       "8990                  0  ...               0             0               0   \n",
       "3684                  0  ...               0             1               0   \n",
       "1034                  0  ...               0             1               0   \n",
       "3909                  0  ...               0             1               0   \n",
       "3088                  1  ...               0             1               0   \n",
       "\n",
       "      Source_Mumbai  Destination_Banglore  Destination_Cochin  \\\n",
       "8990              1                     0                   0   \n",
       "3684              0                     0                   1   \n",
       "1034              0                     0                   1   \n",
       "3909              0                     0                   1   \n",
       "3088              0                     0                   1   \n",
       "\n",
       "      Destination_Delhi  Destination_Hyderabad  Destination_Kolkata  \\\n",
       "8990                  0                      1                    0   \n",
       "3684                  0                      0                    0   \n",
       "1034                  0                      0                    0   \n",
       "3909                  0                      0                    0   \n",
       "3088                  0                      0                    0   \n",
       "\n",
       "      Destination_New Delhi  \n",
       "8990                      0  \n",
       "3684                      0  \n",
       "1034                      0  \n",
       "3909                      0  \n",
       "3088                      0  \n",
       "\n",
       "[5 rows x 31 columns]"
      ]
     },
     "execution_count": 70,
     "metadata": {},
     "output_type": "execute_result"
    }
   ],
   "source": [
    "df.head()"
   ]
  },
  {
   "cell_type": "code",
   "execution_count": 71,
   "id": "f450e3f4",
   "metadata": {},
   "outputs": [
    {
     "data": {
      "text/plain": [
       "8990    23528\n",
       "3684    12373\n",
       "1034     5583\n",
       "3909     7695\n",
       "3088    11972\n",
       "Name: Price, dtype: int64"
      ]
     },
     "execution_count": 71,
     "metadata": {},
     "output_type": "execute_result"
    }
   ],
   "source": [
    "df_labels.head()"
   ]
  },
  {
   "cell_type": "markdown",
   "id": "dc173c6d",
   "metadata": {},
   "source": [
    "# Create Pipeline"
   ]
  },
  {
   "cell_type": "code",
   "execution_count": 72,
   "id": "eb654c20",
   "metadata": {},
   "outputs": [],
   "source": [
    "from sklearn.pipeline import Pipeline \n",
    "from sklearn.preprocessing import StandardScaler\n",
    "from sklearn.impute import SimpleImputer"
   ]
  },
  {
   "cell_type": "code",
   "execution_count": 73,
   "id": "cf2a7c3f",
   "metadata": {},
   "outputs": [],
   "source": [
    "my_pipeline = Pipeline([('imputer',SimpleImputer(strategy=\"median\")),\n",
    "                       ('std_scaler',StandardScaler())])"
   ]
  },
  {
   "cell_type": "code",
   "execution_count": 74,
   "id": "63074d34",
   "metadata": {},
   "outputs": [
    {
     "data": {
      "text/plain": [
       "(8546, 31)"
      ]
     },
     "execution_count": 74,
     "metadata": {},
     "output_type": "execute_result"
    }
   ],
   "source": [
    "df_num = my_pipeline.fit_transform(df)\n",
    "df_num.shape"
   ]
  },
  {
   "cell_type": "markdown",
   "id": "8ae0d939",
   "metadata": {},
   "source": [
    "# Selecting a Desired MODEl for Project"
   ]
  },
  {
   "cell_type": "code",
   "execution_count": 75,
   "id": "d599b310",
   "metadata": {},
   "outputs": [],
   "source": [
    "#from sklearn.linear_model import LinearRegression\n",
    "#from sklearn.tree import DecisionTreeRegressor\n",
    "#model = DecisionTreeRegressor()\n",
    "#model = LinearRegression()\n",
    "from sklearn.ensemble import RandomForestRegressor\n",
    "model = RandomForestRegressor()"
   ]
  },
  {
   "cell_type": "code",
   "execution_count": 76,
   "id": "42aadbd2",
   "metadata": {},
   "outputs": [
    {
     "data": {
      "text/plain": [
       "RandomForestRegressor()"
      ]
     },
     "execution_count": 76,
     "metadata": {},
     "output_type": "execute_result"
    }
   ],
   "source": [
    "model.fit(df_num,df_labels)"
   ]
  },
  {
   "cell_type": "code",
   "execution_count": 77,
   "id": "4de3a836",
   "metadata": {},
   "outputs": [],
   "source": [
    "some_data = df.iloc[:5]"
   ]
  },
  {
   "cell_type": "code",
   "execution_count": 78,
   "id": "44c787ee",
   "metadata": {},
   "outputs": [],
   "source": [
    "some_labels = df_labels.iloc[:5]"
   ]
  },
  {
   "cell_type": "markdown",
   "id": "3bee4084",
   "metadata": {},
   "source": [
    "# Check Predictions"
   ]
  },
  {
   "cell_type": "code",
   "execution_count": 79,
   "id": "f43c8d80",
   "metadata": {},
   "outputs": [],
   "source": [
    "prepared_data = my_pipeline.transform(some_data)"
   ]
  },
  {
   "cell_type": "code",
   "execution_count": 80,
   "id": "19deea1c",
   "metadata": {},
   "outputs": [
    {
     "data": {
      "text/plain": [
       "array([22978.96      , 12216.83333333,  5924.18      ,  8187.115     ,\n",
       "       11958.81566667])"
      ]
     },
     "execution_count": 80,
     "metadata": {},
     "output_type": "execute_result"
    }
   ],
   "source": [
    "model.predict(prepared_data)"
   ]
  },
  {
   "cell_type": "code",
   "execution_count": 81,
   "id": "60cbacfa",
   "metadata": {},
   "outputs": [
    {
     "data": {
      "text/plain": [
       "[23528, 12373, 5583, 7695, 11972]"
      ]
     },
     "execution_count": 81,
     "metadata": {},
     "output_type": "execute_result"
    }
   ],
   "source": [
    "list(some_labels)"
   ]
  },
  {
   "cell_type": "code",
   "execution_count": 82,
   "id": "5fcce80b",
   "metadata": {},
   "outputs": [],
   "source": [
    "# predictions are fine not best..."
   ]
  },
  {
   "cell_type": "markdown",
   "id": "9f653088",
   "metadata": {},
   "source": [
    "# Evaluating The Model"
   ]
  },
  {
   "cell_type": "code",
   "execution_count": 83,
   "id": "4977e69c",
   "metadata": {},
   "outputs": [],
   "source": [
    "from sklearn.metrics import mean_squared_error"
   ]
  },
  {
   "cell_type": "code",
   "execution_count": 84,
   "id": "0049840b",
   "metadata": {},
   "outputs": [],
   "source": [
    "df_predictions = model.predict(df_num)"
   ]
  },
  {
   "cell_type": "code",
   "execution_count": 85,
   "id": "d730cba4",
   "metadata": {},
   "outputs": [],
   "source": [
    "#lin_mse = mean_squared_error(df_labels,df_predictions)\n",
    "mse = mean_squared_error(df_labels,df_predictions)"
   ]
  },
  {
   "cell_type": "code",
   "execution_count": 86,
   "id": "a6e4fb84",
   "metadata": {},
   "outputs": [],
   "source": [
    "#lin_rmse = np.sqrt(lin_mse)\n",
    "rmse = np.sqrt(mse)"
   ]
  },
  {
   "cell_type": "code",
   "execution_count": 87,
   "id": "0cd05138",
   "metadata": {},
   "outputs": [
    {
     "data": {
      "text/plain": [
       "982.0848888682083"
      ]
     },
     "execution_count": 87,
     "metadata": {},
     "output_type": "execute_result"
    }
   ],
   "source": [
    "#lin_rmse\n",
    "rmse"
   ]
  },
  {
   "cell_type": "markdown",
   "id": "e4dd52a3",
   "metadata": {},
   "source": [
    "# using Better Evaluation Technique--(CROSS_VALIDATION)"
   ]
  },
  {
   "cell_type": "code",
   "execution_count": 88,
   "id": "ce589755",
   "metadata": {},
   "outputs": [],
   "source": [
    "from sklearn.model_selection import cross_val_score"
   ]
  },
  {
   "cell_type": "code",
   "execution_count": 89,
   "id": "5c9e4500",
   "metadata": {},
   "outputs": [],
   "source": [
    "scores = cross_val_score(model,df_num,df_labels,scoring=\"neg_mean_squared_error\",cv=10)"
   ]
  },
  {
   "cell_type": "code",
   "execution_count": 90,
   "id": "e7b0038a",
   "metadata": {},
   "outputs": [],
   "source": [
    "rmse_scores= np.sqrt(-scores)"
   ]
  },
  {
   "cell_type": "code",
   "execution_count": 91,
   "id": "c38ea9ab",
   "metadata": {},
   "outputs": [
    {
     "data": {
      "text/plain": [
       "array([1793.40961499, 1874.52471086, 1875.93867314, 1959.22659586,\n",
       "       2115.31876846, 2052.27195439, 2348.44151121, 2093.20434799,\n",
       "       1969.36279421, 1867.24677928])"
      ]
     },
     "execution_count": 91,
     "metadata": {},
     "output_type": "execute_result"
    }
   ],
   "source": [
    "rmse_scores"
   ]
  },
  {
   "cell_type": "code",
   "execution_count": 92,
   "id": "4b274841",
   "metadata": {},
   "outputs": [],
   "source": [
    "# Create a Function"
   ]
  },
  {
   "cell_type": "code",
   "execution_count": 93,
   "id": "baec4a9d",
   "metadata": {},
   "outputs": [],
   "source": [
    "def print_scores(scores):\n",
    "    print(\"Scores:\",scores)\n",
    "    print(\"Mean:\",scores.mean())\n",
    "    print(\"Standard_Deviation:\",scores.std())"
   ]
  },
  {
   "cell_type": "code",
   "execution_count": 94,
   "id": "b9fae8e2",
   "metadata": {},
   "outputs": [
    {
     "name": "stdout",
     "output_type": "stream",
     "text": [
      "Scores: [1793.40961499 1874.52471086 1875.93867314 1959.22659586 2115.31876846\n",
      " 2052.27195439 2348.44151121 2093.20434799 1969.36279421 1867.24677928]\n",
      "Mean: 1994.8945750381238\n",
      "Standard_Deviation: 154.88964904456188\n"
     ]
    }
   ],
   "source": [
    "print_scores(rmse_scores)"
   ]
  },
  {
   "cell_type": "code",
   "execution_count": 95,
   "id": "5c024f0a",
   "metadata": {},
   "outputs": [
    {
     "name": "stdout",
     "output_type": "stream",
     "text": [
      "<class 'pandas.core.frame.DataFrame'>\n",
      "Int64Index: 8546 entries, 8990 to 7270\n",
      "Data columns (total 31 columns):\n",
      " #   Column                                     Non-Null Count  Dtype\n",
      "---  ------                                     --------------  -----\n",
      " 0   Total_Stops                                8546 non-null   int64\n",
      " 1   journey_day                                8546 non-null   int64\n",
      " 2   journey_month                              8546 non-null   int64\n",
      " 3   dep_hour                                   8546 non-null   int64\n",
      " 4   dep_min                                    8546 non-null   int64\n",
      " 5   arrival_hour                               8546 non-null   int64\n",
      " 6   arrival_minute                             8546 non-null   int64\n",
      " 7   duration_hours                             8546 non-null   int64\n",
      " 8   duration_mins                              8546 non-null   int64\n",
      " 9   Airline_Air India                          8546 non-null   uint8\n",
      " 10  Airline_GoAir                              8546 non-null   uint8\n",
      " 11  Airline_IndiGo                             8546 non-null   uint8\n",
      " 12  Airline_Jet Airways                        8546 non-null   uint8\n",
      " 13  Airline_Jet Airways Business               8546 non-null   uint8\n",
      " 14  Airline_Multiple carriers                  8546 non-null   uint8\n",
      " 15  Airline_Multiple carriers Premium economy  8546 non-null   uint8\n",
      " 16  Airline_SpiceJet                           8546 non-null   uint8\n",
      " 17  Airline_Trujet                             8546 non-null   uint8\n",
      " 18  Airline_Vistara                            8546 non-null   uint8\n",
      " 19  Airline_Vistara Premium economy            8546 non-null   uint8\n",
      " 20  Source_Banglore                            8546 non-null   uint8\n",
      " 21  Source_Chennai                             8546 non-null   uint8\n",
      " 22  Source_Delhi                               8546 non-null   uint8\n",
      " 23  Source_Kolkata                             8546 non-null   uint8\n",
      " 24  Source_Mumbai                              8546 non-null   uint8\n",
      " 25  Destination_Banglore                       8546 non-null   uint8\n",
      " 26  Destination_Cochin                         8546 non-null   uint8\n",
      " 27  Destination_Delhi                          8546 non-null   uint8\n",
      " 28  Destination_Hyderabad                      8546 non-null   uint8\n",
      " 29  Destination_Kolkata                        8546 non-null   uint8\n",
      " 30  Destination_New Delhi                      8546 non-null   uint8\n",
      "dtypes: int64(9), uint8(22)\n",
      "memory usage: 851.3 KB\n"
     ]
    }
   ],
   "source": [
    "df.info()"
   ]
  },
  {
   "cell_type": "markdown",
   "id": "f4ad2b6a",
   "metadata": {},
   "source": [
    "## Saving the model"
   ]
  },
  {
   "cell_type": "code",
   "execution_count": 96,
   "id": "138e95e1",
   "metadata": {},
   "outputs": [],
   "source": [
    "#import pickle\n",
    "# open a file, where you ant to store the data\n",
    "#file = open('flight_rf.pkl', 'wb')\n",
    "\n",
    "# dump information to that file\n",
    "#pickle.dump(model, file)"
   ]
  },
  {
   "cell_type": "code",
   "execution_count": 97,
   "id": "4c3e6e84",
   "metadata": {},
   "outputs": [
    {
     "data": {
      "text/plain": [
       "['Flight.joblib']"
      ]
     },
     "execution_count": 97,
     "metadata": {},
     "output_type": "execute_result"
    }
   ],
   "source": [
    "from joblib import dump,load\n",
    "dump(model,'Flight.joblib')"
   ]
  },
  {
   "cell_type": "markdown",
   "id": "7f8ca97b",
   "metadata": {},
   "source": [
    "## Testing the model on test data"
   ]
  },
  {
   "cell_type": "code",
   "execution_count": 98,
   "id": "19216b4c",
   "metadata": {},
   "outputs": [
    {
     "name": "stdout",
     "output_type": "stream",
     "text": [
      "[13769.11716667  5919.44       12175.42133333 ...  6589.65\n",
      "  4841.98       11113.02      ] [10844, 4959, 14781, 3858, 12898, 10529, 16079, 7229, 3597, 16289, 3943, 15764, 14815, 6591, 5126, 2754, 4030, 6171, 15809, 4148, 2175, 4823, 7608, 14298, 14151, 5406, 3100, 13014, 10577, 8040, 5192, 14533, 4812, 9027, 4823, 13542, 9922, 13044, 7757, 4760, 4107, 3383, 14330, 6117, 8918, 5403, 9646, 14714, 22153, 8849, 9646, 10919, 8586, 7574, 17057, 8146, 7591, 6287, 10262, 6128, 16079, 9134, 4332, 10315, 16736, 10262, 7932, 6017, 14053, 10141, 5613, 9103, 15129, 3841, 4804, 8016, 4273, 8620, 13307, 11087, 5621, 7189, 4174, 7229, 13727, 7354, 3543, 15187, 14939, 7102, 3419, 8355, 10741, 13817, 4823, 8372, 4050, 12898, 13817, 8996, 8330, 10844, 6688, 7503, 26890, 4804, 4777, 7171, 5054, 15129, 10844, 10197, 7452, 7191, 13677, 11491, 15812, 3850, 7229, 8586, 13067, 4423, 2754, 6838, 4508, 9254, 3841, 4886, 5775, 10262, 5626, 7530, 11134, 10203, 8372, 13310, 3419, 13759, 8586, 7673, 12898, 11841, 6741, 10844, 4483, 15554, 7832, 3717, 6442, 12898, 8016, 9646, 11728, 7229, 13628, 14151, 14323, 7094, 18736, 6144, 12373, 4409, 9508, 6838, 7804, 7295, 9314, 10262, 5176, 4282, 12898, 10368, 7354, 6442, 4697, 6734, 10844, 4226, 6069, 11399, 4030, 15147, 14781, 4441, 4525, 11789, 4995, 7408, 9663, 9920, 8066, 10844, 7064, 4885, 7164, 5746, 8479, 9663, 3841, 5678, 12475, 15170, 4462, 16704, 3943, 16079, 15200, 27210, 16289, 2017, 16704, 13014, 14960, 7229, 8714, 11667, 6416, 4729, 7872, 5192, 4437, 14781, 3807, 5403, 2754, 5894, 12704, 11299, 10368, 15129, 5438, 1965, 2647, 3943, 14924, 4049, 5320, 4148, 6827, 12681, 3809, 10368, 6565, 9029, 10651, 4804, 14571, 12488, 3850, 4804, 7480, 13014, 3841, 7153, 8586, 2647, 8285, 4226, 4409, 12373, 4544, 10844, 3841, 12080, 4812, 7695, 16389, 10844, 10262, 13222, 10368, 16163, 10844, 12395, 11038, 7408, 15147, 13727, 22950, 10262, 14388, 5883, 10197, 10919, 4886, 7503, 7408, 5232, 21571, 13817, 11410, 14151, 13941, 8586, 6818, 6565, 8452, 4668, 4804, 16108, 6643, 5403, 12819, 4804, 1965, 11702, 7670, 10844, 12898, 9417, 3597, 13377, 12677, 16108, 10413, 22270, 10844, 5620, 2227, 7229, 4804, 8586, 16697, 9653, 14388, 12373, 4106, 15077, 7690, 6121, 11432, 12692, 6752, 5694, 5443, 6224, 7308, 7229, 16704, 6528, 14151, 8662, 10844, 10262, 10919, 2017, 17703, 12819, 4423, 13882, 12524, 6305, 16263, 7731, 15170, 10676, 4227, 7317, 9663, 8907, 25735, 15129, 4174, 13775, 7408, 8586, 4649, 26890, 4729, 11260, 12121, 5694, 8576, 25703, 5678, 12395, 2017, 10262, 4778, 11507, 7725, 9663, 6961, 12954, 18371, 4878, 10539, 14815, 15103, 13899, 4823, 6674, 9790, 11093, 26890, 13381, 4804, 6628, 11087, 3873, 10919, 9330, 8879, 10467, 6540, 6316, 5224, 21730, 7202, 13029, 27992, 13067, 6934, 4148, 13882, 31825, 10262, 6540, 10678, 12898, 6218, 5298, 8016, 14851, 14388, 13377, 3919, 5201, 3873, 4823, 5583, 11753, 6094, 6692, 4777, 15078, 3342, 10067, 7725, 10844, 4804, 14714, 14571, 3943, 7185, 9564, 5678, 10588, 3841, 6065, 2227, 11791, 9526, 13014, 2437, 12681, 10262, 6093, 13587, 2754, 6542, 14067, 12692, 4483, 6197, 11087, 10262, 10844, 4591, 4804, 4460, 3850, 7791, 11087, 14151, 10031, 13587, 10919, 6093, 7198, 5228, 3943, 10031, 10262, 10368, 6841, 6152, 11087, 5117, 9899, 5644, 2017, 6565, 7893, 9863, 5895, 9564, 12214, 12395, 12373, 7662, 14053, 11538, 15135, 13547, 5911, 18371, 14714, 12803, 13941, 4282, 4227, 3841, 10262, 11467, 3100, 16079, 3257, 9646, 14714, 7048, 8366, 4668, 13611, 7191, 15554, 14848, 4483, 3210, 15554, 15554, 4409, 6961, 10844, 7229, 6216, 11087, 12692, 10703, 10844, 11467, 5769, 3841, 12898, 7923, 3807, 6106, 9103, 6027, 5912, 13626, 6147, 7408, 10262, 10021, 5176, 4129, 12192, 12961, 14714, 3943, 15554, 21219, 10405, 12609, 7670, 14067, 13067, 14781, 14069, 11717, 14441, 6934, 2017, 24318, 14151, 6860, 5769, 6628, 8529, 8366, 15129, 7160, 5224, 4823, 18799, 7927, 6297, 6442, 6795, 13014, 15129, 4823, 6513, 8588, 6093, 4878, 12488, 10844, 6810, 5224, 14388, 4145, 6093, 3625, 12383, 6790, 3419, 1965, 12649, 7878, 13797, 8371, 10844, 3850, 13022, 4647, 3943, 11087, 3807, 14714, 13377, 6587, 14388, 15077, 11789, 13759, 11401, 8073, 4239, 12802, 4077, 10031, 6144, 4282, 4804, 5613, 5201, 5998, 7723, 4462, 6300, 8372, 15129, 18485, 12409, 7064, 17057, 6979, 6565, 22270, 13759, 11707, 5521, 4804, 14960, 8040, 5515, 6297, 9345, 13044, 10262, 5192, 11793, 14323, 10196, 3943, 2754, 4239, 8366, 14231, 11507, 10844, 14714, 14871, 14151, 5192, 10671, 9663, 12648, 10697, 15147, 13843, 6528, 8266, 5403, 8996, 5831, 7080, 5403, 6144, 8708, 16736, 11573, 4760, 5636, 5515, 3858, 4823, 9627, 13584, 8610, 9064, 13227, 36235, 7408, 4340, 10844, 6058, 13376, 10262, 13882, 15078, 4340, 7893, 6223, 12373, 5054, 6015, 3841, 11188, 10368, 7295, 6493, 2754, 3919, 3807, 3873, 4483, 15164, 10276, 17493, 10919, 4435, 3419, 4939, 11552, 6147, 9653, 4405, 15422, 10262, 14151, 3597, 8330, 10715, 5935, 12898, 9158, 10262, 4591, 4148, 13465, 6117, 4804, 8016, 6681, 5769, 13292, 11281, 4423, 4777, 3847, 7064, 3943, 5963, 4823, 8153, 4668, 8586, 4667, 14871, 4804, 8837, 16655, 7229, 4077, 8420, 4148, 15025, 6741, 3419, 8110, 6478, 13759, 4030, 8452, 3873, 10031, 24210, 11150, 17261, 7202, 7005, 9929, 13364, 4049, 15113, 8016, 9564, 9254, 14781, 13377, 19595, 7664, 4423, 8586, 18308, 4049, 17476, 10262, 12192, 14151, 7064, 13587, 9663, 6287, 3873, 4878, 3943, 2071, 5298, 15544, 17057, 4823, 8005, 9134, 17996, 7229, 9316, 6300, 11360, 11982, 6838, 14151, 15400, 18581, 3383, 6416, 3625, 14781, 9920, 5224, 9555, 14151, 9237, 8452, 11467, 6961, 15284, 16289, 3543, 7787, 5830, 5883, 4409, 3841, 7673, 11934, 4823, 7451, 10844, 6076, 2575, 27992, 3597, 6216, 11105, 10945, 5406, 9916, 3687, 6046, 17471, 7298, 16389, 10368, 7258, 13377, 13542, 3573, 6979, 4049, 5725, 13941, 14871, 3100, 7229, 4804, 5678, 7060, 10262, 7363, 14714, 4995, 6117, 4823, 10697, 8040, 12224, 3841, 11841, 3898, 14815, 5678, 10678, 4148, 11150, 6857, 10262, 4692, 10991, 5201, 11096, 3919, 6300, 14714, 3419, 5277, 4239, 14714, 12681, 8085, 16274, 13014, 8656, 10368, 11702, 6205, 3419, 5644, 12032, 13376, 13817, 17024, 7064, 8586, 14441, 13941, 14848, 7947, 12898, 3919, 12373, 4995, 11087, 4462, 3841, 10262, 12692, 5769, 4823, 7485, 14781, 10262, 6591, 8610, 4804, 3943, 12121, 4668, 7198, 6587, 4319, 2759, 5957, 13014, 57209, 13014, 10844, 20694, 12102, 8028, 7503, 7934, 7229, 3383, 3383, 14714, 10262, 9794, 5510, 4668, 15129, 16704, 10577, 9663, 14300, 10877, 4959, 8586, 4823, 11421, 9483, 7295, 8586, 13469, 5298, 15107, 4995, 13587, 7832, 10197, 7202, 6991, 10037, 34273, 12327, 8073, 3873, 12242, 14086, 10467, 10262, 6138, 5177, 7648, 6968, 9296, 7591, 9103, 15136, 4878, 6883, 13014, 17024, 11822, 7989, 10368, 8290, 7229, 15129, 3687, 10262, 10031, 8854, 9899, 6297, 7575, 4804, 3574, 6795, 8820, 4077, 10203, 11522, 11596, 5769, 6121, 4030, 10539, 7480, 13014, 10262, 9443, 4667, 10262, 14571, 5320, 14388, 10810, 3597, 9663, 5092, 6442, 15129, 3383, 10975, 11622, 15481, 9134, 7064, 7276, 14486, 5989, 8907, 5755, 3859, 13587, 7480, 4049, 7832, 8040, 3175, 9968, 3873, 5069, 4491, 5740, 4049, 13817, 8891, 7354, 8529, 14960, 10791, 14714, 6478, 3543, 11467, 5170, 14151, 3873, 6015, 14388, 3384, 12373, 2017, 3597, 3841, 16108, 12032, 9149, 25430, 4804, 9646, 15764, 10975, 14388, 3815, 16079, 2227, 17234, 14151, 6093, 5171, 5613, 9663, 5177, 4050, 9663, 9443, 3841, 10368, 14388, 10844, 4823, 14781, 7166, 10368, 8372, 12384, 8586, 11087, 3419, 6732, 3873, 13014, 16289, 13376, 4326, 4030, 12351, 6121, 15342, 7795, 17524, 6838, 9314, 2759, 12395, 8879, 5073, 7934, 16704, 7485, 8475, 13014, 14571, 4319, 5969, 14815, 3419, 9345, 9856, 12373, 3898, 12373, 3943, 9314, 4804, 13838, 13243, 3100, 3943, 14388, 4544, 7229, 10877, 14848, 3873, 8119, 14388, 5626, 8529, 6442, 10844, 7191, 12692, 10262, 13014, 7155, 2228, 4632, 10262, 8907, 6442, 14086, 5975, 6961, 4441, 4384, 3841, 3419, 4823, 6171, 3597, 22270, 9663, 1965, 12692, 12814, 11542, 8707, 12373, 4174, 13376, 17198, 13727, 7952, 8099, 7006, 4778, 7870, 6442, 5515, 7229, 4423, 13014, 8849, 13484, 5021, 8372, 5406, 4804, 3858, 14571, 15147, 3898, 13882, 4413, 16022, 13882, 9526, 7229, 26890, 7198, 8488, 18286, 11087, 14634, 11668, 6116, 10262, 13376, 9646, 14871, 3971, 7832, 12898, 5198, 14871, 3919, 8366, 10262, 12609, 5644, 9836, 10262, 3257, 5177, 4148, 3898, 7229, 14151, 10231, 4668, 9968, 4030, 4812, 13067, 4668, 12723, 10441, 8834, 12898, 4174, 14781, 5678, 8479, 10651, 14306, 10651, 5678, 12557, 15129, 7575, 8355, 8001, 14571, 5276, 13941, 5198, 10844, 9663, 3850, 16704, 10262, 11664, 4413, 5192, 9856, 7229, 3100, 4563, 13555, 3383, 5195, 8367, 5644, 7503, 13941, 3100, 15129, 16108, 15129, 13873, 2754, 11789, 12681, 28097, 16914, 13029, 11982, 2228, 10406, 12373, 14388, 9486, 7095, 22270, 10262, 5883, 31825, 10368, 10953, 4050, 3919, 2017, 10861, 10308, 10667, 10975, 13135, 13941, 10276, 5198, 6451, 14871, 9794, 5192, 11087, 16736, 3807, 9564, 13033, 13727, 6297, 3897, 8882, 5769, 7229, 7480, 3342, 14571, 4744, 7476, 5069, 5126, 18286, 10577, 11647, 14571, 10877, 12373, 10262, 9663, 7229, 2385, 9314, 3873, 9100, 4777, 7354, 16775, 8728, 8098, 8372, 10756, 12410, 5228, 2227, 12829, 3543, 12239, 3841, 3175, 12725, 3919, 4957, 13357, 7851, 4591, 10406, 10368, 12599, 3543, 10975, 4174, 11600, 10441, 11087, 8529, 10262, 6144, 2227, 5088, 6860, 8586, 8372, 4668, 6961, 9001, 13843, 10262, 3838, 14687, 4077, 6528, 3873, 6121, 10262, 6027, 9254, 12395, 8879, 7090, 15077, 8529, 3858, 4757, 4804, 16079, 10208, 7084, 14815, 10262, 6117, 14151, 4049, 4435, 4667, 15058, 8099, 11982, 15284, 7229, 3597, 17261, 9646, 13014, 5406, 10262, 16289, 8016, 8372, 13882, 11087, 9314, 4565, 15812, 7005, 4049, 3597, 8627, 7757, 4423, 8845, 7817, 4649, 7605, 8662, 9653, 8625, 10546, 7878, 13082, 5775, 13014, 10203, 10844, 16079, 4804, 11270, 13100, 18804, 13292, 22270, 11200, 15554, 26890, 9646, 8405, 5054, 12284, 13067, 8879, 8372, 5228, 6961, 8224, 7229, 9663, 7229, 5117, 13377, 12898, 7005, 5608, 3540, 3175, 7229, 3311, 8033, 5158, 4409, 7408, 13759, 3419, 11841, 6121, 6961, 6216, 13292, 14571, 14714, 5162, 15147, 10697, 12373, 6015, 21314, 9627, 10197, 4049, 6253, 7591, 9400, 13626, 10877, 7064, 6117, 4804, 4668, 10208, 16704, 1965, 10539, 3173, 23001, 6094, 4957, 9187, 10231, 11543, 4878, 6442, 13817, 7229, 10844, 17135, 13584, 8529, 11982, 9315, 3480, 23677, 12358, 4823, 14067, 13817, 4049, 8479, 9314, 10262, 7081, 4319, 10031, 10577, 17057, 10844, 11134, 6934, 10835, 9416, 5618, 9794, 6273, 3807, 12819, 3948, 10368, 13584, 4050, 6955, 5192, 11134, 4990, 14714, 2017, 12219, 10197, 4692, 4668, 4148, 15129, 2228, 4030, 13377, 7503, 11087, 3540, 6653, 11989, 13029, 10203, 7198, 6351, 5678, 4937, 13538, 10991, 14973, 11789, 6094, 14533, 5457, 7740, 10651, 5277, 5963, 10493, 5000, 10351, 11410, 12242, 12373, 11465, 8366, 3210, 5073, 12032, 14571, 14214, 4823, 3841, 8907, 7398, 3841, 10844, 7485, 10197, 7202, 4050, 11627, 3540, 16079, 13941, 7438, 16079, 8371, 2017, 8603, 5989, 4332, 11982, 8714, 10368, 2754, 14714, 7229, 6092, 3873, 11806, 10844, 12476, 13731, 5228, 14714, 8040, 10262, 6017, 3543, 12646, 17057, 4049, 11087, 11622, 6218, 10919, 8610, 7229, 11936, 7229, 4441, 6297, 10844, 11093, 7826, 4050, 4823, 7048, 14151, 6297, 11667, 12392, 12373, 3850, 10844, 13587, 6493, 3687, 6541, 11150, 4885, 13885, 7064, 5073, 4575, 5620, 4487, 8446, 6327, 4591, 11667, 2754, 4823, 10844, 10405, 3597, 13377, 14973, 15318, 8479, 12819, 6674, 7408, 13067, 5198, 6393, 6104, 3858, 15170, 10877, 14237, 8236, 13801, 7832, 14388, 10577, 31825, 7005, 9595, 6959, 5530, 4804, 9646, 17261, 8586, 7531, 7923, 13942, 6314, 14388, 6065, 7082, 13376, 8553, 4995, 12192, 8529, 10262, 10067, 2228, 7295, 7354, 5438, 2754, 14300, 10262, 10262, 13344, 3100, 14714, 14067, 12373, 3919, 5883, 12819, 14178, 8505, 10262, 7416, 8147, 13626, 4201, 14714, 13067, 17057, 13243, 15129, 5201, 4462, 6147, 2017, 5704, 4441, 9128, 5162, 5601, 4591, 12284, 6442, 4282, 7480, 5177, 4963, 6818, 3841, 14960, 3332, 3100, 11678, 21520, 10782, 12242, 2754, 3383, 14300, 9871, 6305, 2017, 6206, 3687, 7618, 15129, 9663, 12898, 6896, 10262, 4804, 10844, 8443, 10262, 5228, 5628, 4804, 15129, 12242, 6121, 9258, 5224, 8907, 14067, 4995, 6094, 10697, 11432, 13748, 14781, 14151, 2385, 5224, 7202, 4804, 5069, 4409, 10844, 3597, 11185, 13790, 14151, 12192, 7927, 7229, 7229, 11241, 6309, 12646, 10413, 11467, 11161, 16704, 15129, 2227, 2227, 5797, 9736, 4804, 4282, 12373, 3971, 8784, 3919, 10844, 8759, 14571, 4377, 8040, 8834, 3847, 10808, 10262, 8452, 13882, 2754, 10493, 4483, 6015, 13067, 9358, 12475, 13759, 4423, 3925, 6979, 7229, 3943, 8040, 12373, 8075, 7064, 8770, 3873, 6795, 13941, 7174, 11200, 6442, 3210, 5694, 3847, 8855, 10844, 7229, 13941, 10844, 4823, 3873, 12853, 4957, 10262, 8576, 12395, 4804, 5510, 7174, 6093, 4649, 9653, 12898, 6245, 6741, 7229, 19508, 12898, 13292, 8327, 4878, 15129, 13764, 10676, 3543, 10262, 10703, 8098, 15129, 14781, 4282, 13029, 5224, 15129, 11087, 2227, 3919, 10877, 7888, 4804, 12224, 2227, 5678, 3841, 10368, 4668, 6795, 9134, 8016, 14848, 12723, 10262, 14871, 9424, 7229, 3543, 14388, 25735, 3540, 5613, 15129, 14237, 8714, 7229, 15135, 6938, 4823, 10577, 4995, 10953, 11467, 10368, 6496, 12242, 5894, 3858, 12140, 3100, 10118, 6600, 7229, 3873, 8026, 6478, 5403, 3597, 7480, 8372, 12819, 14781, 13014, 5636, 14714, 14714, 8586, 11150, 14571, 3597, 10407, 5277, 6818, 9794, 3841, 6752, 13029, 16079, 8529, 6795, 17493, 6937, 10844, 4049, 7563, 12080, 7038, 6938, 8456, 3841, 4668, 11518, 10844, 7662, 14924, 8055, 14388, 7738, 2227, 4957, 14441, 4995, 2017, 6117, 3419, 13817, 14151, 5088, 5769, 10844, 4729, 10368, 6478, 13439, 5177, 4878, 12524, 3943, 6901, 14781, 13587, 13014, 6961, 4995, 12898, 9416, 4465, 7005, 8016, 5228, 3943, 13243, 9732, 6442, 11602, 7408, 7408, 4622, 7452, 4823, 13731]\n"
     ]
    }
   ],
   "source": [
    "X_test = test_set.drop(\"Price\",axis=1)\n",
    "Y_test = test_set[\"Price\"].copy()\n",
    "X_test_prepared = my_pipeline.transform(X_test)\n",
    "final_predictions = model.predict(X_test_prepared)\n",
    "final_mse = mean_squared_error(Y_test, final_predictions)\n",
    "final_rmse = np.sqrt(final_mse)\n",
    "print(final_predictions,list(Y_test))"
   ]
  },
  {
   "cell_type": "code",
   "execution_count": 99,
   "id": "ba09cfe0",
   "metadata": {},
   "outputs": [
    {
     "data": {
      "text/plain": [
       "2119.645502182721"
      ]
     },
     "execution_count": 99,
     "metadata": {},
     "output_type": "execute_result"
    }
   ],
   "source": [
    "final_rmse"
   ]
  },
  {
   "cell_type": "code",
   "execution_count": 100,
   "id": "76ebfff0",
   "metadata": {},
   "outputs": [
    {
     "data": {
      "text/plain": [
       "array([ 1.74435623, -0.18720791, -1.46907017, -1.13039148,  0.29805099,\n",
       "        0.38532046,  0.62626302, -0.02385297, -1.37335569, -0.44281054,\n",
       "       -0.13812827, -0.49080407,  1.33964063, -0.02419528, -0.35427438,\n",
       "       -0.039032  , -0.28786929, -0.01081793, -0.21837834, -0.01081793,\n",
       "       -0.51236736, -0.19270683, -0.85232895, -0.6089905 ,  3.79449578,\n",
       "       -0.6089905 , -0.85232895, -0.36752918,  3.79449578, -0.19270683,\n",
       "       -0.31242775])"
      ]
     },
     "execution_count": 100,
     "metadata": {},
     "output_type": "execute_result"
    }
   ],
   "source": [
    "prepared_data[0]"
   ]
  },
  {
   "cell_type": "code",
   "execution_count": null,
   "id": "becec405",
   "metadata": {},
   "outputs": [],
   "source": []
  }
 ],
 "metadata": {
  "kernelspec": {
   "display_name": "Python 3",
   "language": "python",
   "name": "python3"
  },
  "language_info": {
   "codemirror_mode": {
    "name": "ipython",
    "version": 3
   },
   "file_extension": ".py",
   "mimetype": "text/x-python",
   "name": "python",
   "nbconvert_exporter": "python",
   "pygments_lexer": "ipython3",
   "version": "3.9.5"
  }
 },
 "nbformat": 4,
 "nbformat_minor": 5
}
