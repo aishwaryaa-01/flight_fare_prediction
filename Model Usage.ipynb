{
 "cells": [
  {
   "cell_type": "code",
   "execution_count": 3,
   "id": "f76e0789",
   "metadata": {},
   "outputs": [],
   "source": [
    "import numpy as np\n",
    "from joblib import dump,load\n",
    "model = load('Flight.joblib')"
   ]
  },
  {
   "cell_type": "code",
   "execution_count": 5,
   "id": "c38f52d1",
   "metadata": {},
   "outputs": [
    {
     "data": {
      "text/plain": [
       "array([22988.08])"
      ]
     },
     "execution_count": 5,
     "metadata": {},
     "output_type": "execute_result"
    }
   ],
   "source": [
    "features = np.array([[ 1.74435623, -0.18720791, -1.46907017, -1.13039148,  0.29805099,\n",
    "        0.38532046,  0.62626302,  0.54533649, -0.02385297, -1.37335569,\n",
    "       -0.44281054, -0.13812827, -0.49080407,  1.33964063, -0.02419528,\n",
    "       -0.35427438, -0.039032  , -0.28786929, -0.01081793, -0.21837834,\n",
    "       -0.01081793, -0.51236736, -0.19270683, -0.85232895, -0.6089905 ,\n",
    "        3.79449578, -0.6089905 , -0.85232895, -0.36752918,  3.79449578,\n",
    "       -0.19270683, -0.31242775]])\n",
    "model.predict(features)"
   ]
  },
  {
   "cell_type": "code",
   "execution_count": null,
   "id": "6d30fd69",
   "metadata": {},
   "outputs": [],
   "source": []
  }
 ],
 "metadata": {
  "kernelspec": {
   "display_name": "Python 3",
   "language": "python",
   "name": "python3"
  },
  "language_info": {
   "codemirror_mode": {
    "name": "ipython",
    "version": 3
   },
   "file_extension": ".py",
   "mimetype": "text/x-python",
   "name": "python",
   "nbconvert_exporter": "python",
   "pygments_lexer": "ipython3",
   "version": "3.9.5"
  }
 },
 "nbformat": 4,
 "nbformat_minor": 5
}
